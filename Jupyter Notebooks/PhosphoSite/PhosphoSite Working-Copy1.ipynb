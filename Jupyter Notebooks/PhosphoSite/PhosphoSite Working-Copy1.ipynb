{
 "cells": [
  {
   "cell_type": "markdown",
   "metadata": {},
   "source": [
    "# PhosphoSite Data Formatting\n",
    "\n",
    "This file takes data regarding kinase-protein interactions from the PhosphoSite database and converts the data into the .gmt format. The data was retrieved from the PhosphoSite database on Wed, Jun 14 2017 12:10:56. This data will be added to enhance the KEA2 database and will be suitably formatted for use by ENRICHR and X2K."
   ]
  },
  {
   "cell_type": "markdown",
   "metadata": {},
   "source": [
    "## Import packages necessary for following program"
   ]
  },
  {
   "cell_type": "code",
   "execution_count": null,
   "metadata": {
    "collapsed": true
   },
   "outputs": [],
   "source": [
    "%run /home/maayanlab/Projects/Scripts/init.ipy\n",
    "%run /home/maayanlab/Projects/Scripts/Scripts.py"
   ]
  },
  {
   "cell_type": "markdown",
   "metadata": {},
   "source": [
    "## Create a dataframe from a file containing PhosphoSite data"
   ]
  },
  {
   "cell_type": "code",
   "execution_count": null,
   "metadata": {},
   "outputs": [],
   "source": [
    "#Define colnames (present in original dataset) for dataframe\n",
    "colnames = ['Gene', 'kinase', 'Kin_Acc_ID', 'Kin_organism', \n",
    "            'substrate', 'sub_gene_id', 'sub_Acc_ID', 'sub_gene',\n",
    "           'Sub_organism', 'sub_mod_rsd', 'SITE_GRP_ID',\n",
    "            'SITE_+/-7_AA', 'DOMAIN', 'IN_VIVO_RXN', 'IN_VITRO_RXN','CST_CAT']\n",
    "\n",
    "#read data from excel file into dataframe 'phospho_df'\n",
    "site_df = pd.read_excel('~/Desktop/Kinase_Substrate_Dataset.xlsm', \n",
    "                           header = None, names = colnames)\n",
    "\n",
    "#View dataframe\n",
    "site_df.head()"
   ]
  },
  {
   "cell_type": "markdown",
   "metadata": {},
   "source": [
    "## Filter by columns necessary for .GMT file format"
   ]
  },
  {
   "cell_type": "code",
   "execution_count": null,
   "metadata": {},
   "outputs": [],
   "source": [
    "#Create dataframe 'df' with columns pertaining to kinase accession id,\n",
    "#kinase organism, and substrate accession id\n",
    "df = site_df[['Kin_Acc_ID', 'Kin_organism', 'sub_Acc_ID']]\n",
    "\n",
    "#View dataframe\n",
    "df.head()"
   ]
  },
  {
   "cell_type": "markdown",
   "metadata": {},
   "source": [
    "## Filter dataframe by Organism\n",
    "Ensures that kinase organism matches substrate organism, and subsets data pertaining only to mouse and human samples."
   ]
  },
  {
   "cell_type": "code",
   "execution_count": null,
   "metadata": {
    "scrolled": true
   },
   "outputs": [],
   "source": [
    "# Check that kinase and substrate are of same organism\n",
    "indices = [index for index, rowData in site_df.iterrows() \n",
    "           if rowData['Kin_organism'] == rowData['Sub_organism'] \n",
    "           and rowData['Kin_organism'] in ['human', 'mouse']]\n",
    "\n",
    "# Filter the dataframe by organism\n",
    "site_df_filtered = df.loc[indices]\n",
    "\n",
    "# Replace 'human' and 'mouse' with 'Homo sapiens' and 'Mus musculus' for 'Kin_organism' column\n",
    "site_df_filtered.Kin_organism.replace(['human', 'mouse'], ['Homo sapiens', 'Mus musculus'], inplace=True)\n",
    "\n",
    "#View dataframe\n",
    "site_df_filtered"
   ]
  },
  {
   "cell_type": "markdown",
   "metadata": {},
   "source": [
    "## Convert UniProt IDs to Gene Symbols\n",
    "For uniprot ids which yielded no gene symbol using the Scripts.py function, gene symbols were taken from the 'substrates' column of the original datafrane."
   ]
  },
  {
   "cell_type": "code",
   "execution_count": null,
   "metadata": {},
   "outputs": [],
   "source": [
    "#Use uniprot_to_symbol function from Scripts.py to convert\n",
    "site_df_filtered['Kinases'] = Scripts.uniprot_to_symbol(site_df_filtered['Kin_Acc_ID'].tolist())\n",
    "\n",
    "#Use uniprot_to_symbol function from Scripts.py to convert\n",
    "site_df_filtered['Substrates'] = Scripts.uniprot_to_symbol(site_df_filtered['sub_Acc_ID'].tolist())\n",
    "\n",
    "for index, kinase in site_df_filtered.Kinases.iteritems():\n",
    "    if kinase == None:\n",
    "        site_df_filtered.Kinases[index] = site_df.kinase[index]\n",
    "        \n",
    "for index, substrate in site_df_filtered.Substrates.iteritems():\n",
    "    if substrate == None:\n",
    "        site_df_filtered.Substrates[index] = site_df.substrate[index]\n",
    "        \n",
    "#View Dataframe\n",
    "site_df_filtered.head(100)"
   ]
  },
  {
   "cell_type": "markdown",
   "metadata": {},
   "source": [
    "## Combine 'Kinase' and 'Organism' Column and Create new Dataframe"
   ]
  },
  {
   "cell_type": "code",
   "execution_count": null,
   "metadata": {
    "scrolled": true
   },
   "outputs": [],
   "source": [
    "# Combine 'kinases' and 'species' into one column 'kinase_organism'\n",
    "site_df_filtered['kinase_organism'] = ['_'.join([kinase, species]) for kinase, species in site_df_filtered[['Kinases', 'Kin_organism']].as_matrix()]\n",
    "\n",
    "#View dataframe\n",
    "site_df_filtered.head()"
   ]
  },
  {
   "cell_type": "code",
   "execution_count": null,
   "metadata": {},
   "outputs": [],
   "source": [
    "#Create new dataframe 'PhosphoS_df' without accession ids for kinases/proteins\n",
    "PhosphoS_df = site_df_filtered[['Substrates', 'kinase_organism']]\n",
    "\n",
    "#drop duplicate rows in the dataframe\n",
    "PhosphoS_df.drop_duplicates(inplace = True)\n",
    "\n",
    "#View dataframe\n",
    "PhosphoS_df.head()"
   ]
  },
  {
   "cell_type": "markdown",
   "metadata": {},
   "source": [
    "## Set Index to 'Kinase_Organism' and Aggregate Kinase Targets"
   ]
  },
  {
   "cell_type": "code",
   "execution_count": null,
   "metadata": {},
   "outputs": [],
   "source": [
    "#Set index to 'kinase_organism'\n",
    "PhosphoS_df.set_index('kinase_organism')\n",
    "\n",
    "#Group kinases in dataframe 'kin'\n",
    "#Aggregate data in 'kin' according to kinase groups\n",
    "kin = PhosphoS_df.groupby('kinase_organism').agg(lambda x: tuple(x))\n",
    "\n",
    "#Create a new column 'PhosphoSite' as description of data\n",
    "kin.insert(0, 'Description', 'PhosphoSite')\n",
    "\n",
    "#Visualize Data\n",
    "kin.head()"
   ]
  },
  {
   "cell_type": "markdown",
   "metadata": {},
   "source": [
    "# Exploratory Data Analysis"
   ]
  },
  {
   "cell_type": "markdown",
   "metadata": {},
   "source": [
    "## Calculate Number of Protein targets for each kinase\n",
    "Create a new column with the number of substrates related to each kinase, and sort the dataframe by this column."
   ]
  },
  {
   "cell_type": "code",
   "execution_count": 93,
   "metadata": {},
   "outputs": [
    {
     "data": {
      "text/html": [
       "<div>\n",
       "<style>\n",
       "    .dataframe thead tr:only-child th {\n",
       "        text-align: right;\n",
       "    }\n",
       "\n",
       "    .dataframe thead th {\n",
       "        text-align: left;\n",
       "    }\n",
       "\n",
       "    .dataframe tbody tr th {\n",
       "        vertical-align: top;\n",
       "    }\n",
       "</style>\n",
       "<table border=\"1\" class=\"dataframe\">\n",
       "  <thead>\n",
       "    <tr style=\"text-align: right;\">\n",
       "      <th></th>\n",
       "      <th>Description</th>\n",
       "      <th>Substrates</th>\n",
       "      <th>kinase_substrate_num</th>\n",
       "    </tr>\n",
       "    <tr>\n",
       "      <th>kinase_organism</th>\n",
       "      <th></th>\n",
       "      <th></th>\n",
       "      <th></th>\n",
       "    </tr>\n",
       "  </thead>\n",
       "  <tbody>\n",
       "    <tr>\n",
       "      <th>PRKACA_Homo sapiens</th>\n",
       "      <td>PhosphoSite</td>\n",
       "      <td>(GLI1, CUX1, HIF1A, VASP, RAP1B, CDK16, NOS3, ...</td>\n",
       "      <td>291</td>\n",
       "    </tr>\n",
       "    <tr>\n",
       "      <th>CDK2_Homo sapiens</th>\n",
       "      <td>PhosphoSite</td>\n",
       "      <td>(NR1I2, SNAPIN, RAD9A, PELP1, ZYX, MCL1, RBL2,...</td>\n",
       "      <td>275</td>\n",
       "    </tr>\n",
       "    <tr>\n",
       "      <th>CDK1_Homo sapiens</th>\n",
       "      <td>PhosphoSite</td>\n",
       "      <td>(MDM4, TOP2A, RAD9A, RANBP2, WEE1, MCL1, NUMA1...</td>\n",
       "      <td>262</td>\n",
       "    </tr>\n",
       "    <tr>\n",
       "      <th>CSNK2A1_Homo sapiens</th>\n",
       "      <td>PhosphoSite</td>\n",
       "      <td>(DDX58, PAK1, DDIT3, MME, PTEN, RPS6KA5, PPP1R...</td>\n",
       "      <td>227</td>\n",
       "    </tr>\n",
       "    <tr>\n",
       "      <th>SRC_Homo sapiens</th>\n",
       "      <td>PhosphoSite</td>\n",
       "      <td>(CASP8 iso4, PTEN, GJA1, SPTAN1, GAPDH, FLT4, ...</td>\n",
       "      <td>213</td>\n",
       "    </tr>\n",
       "  </tbody>\n",
       "</table>\n",
       "</div>"
      ],
      "text/plain": [
       "                      Description  \\\n",
       "kinase_organism                     \n",
       "PRKACA_Homo sapiens   PhosphoSite   \n",
       "CDK2_Homo sapiens     PhosphoSite   \n",
       "CDK1_Homo sapiens     PhosphoSite   \n",
       "CSNK2A1_Homo sapiens  PhosphoSite   \n",
       "SRC_Homo sapiens      PhosphoSite   \n",
       "\n",
       "                                                             Substrates  \\\n",
       "kinase_organism                                                           \n",
       "PRKACA_Homo sapiens   (GLI1, CUX1, HIF1A, VASP, RAP1B, CDK16, NOS3, ...   \n",
       "CDK2_Homo sapiens     (NR1I2, SNAPIN, RAD9A, PELP1, ZYX, MCL1, RBL2,...   \n",
       "CDK1_Homo sapiens     (MDM4, TOP2A, RAD9A, RANBP2, WEE1, MCL1, NUMA1...   \n",
       "CSNK2A1_Homo sapiens  (DDX58, PAK1, DDIT3, MME, PTEN, RPS6KA5, PPP1R...   \n",
       "SRC_Homo sapiens      (CASP8 iso4, PTEN, GJA1, SPTAN1, GAPDH, FLT4, ...   \n",
       "\n",
       "                      kinase_substrate_num  \n",
       "kinase_organism                             \n",
       "PRKACA_Homo sapiens                    291  \n",
       "CDK2_Homo sapiens                      275  \n",
       "CDK1_Homo sapiens                      262  \n",
       "CSNK2A1_Homo sapiens                   227  \n",
       "SRC_Homo sapiens                       213  "
      ]
     },
     "execution_count": 93,
     "metadata": {},
     "output_type": "execute_result"
    }
   ],
   "source": [
    "# Create column representing counts of protein targets per kinase\n",
    "kin['kinase_substrate_num'] = [len(lst) for kinase, lst in kin['Substrates'].iteritems()]\n",
    "\n",
    "# Sort kinases from max to min according to number of protein targets each has\n",
    "kin.sort_values(by = ['kinase_substrate_num'], ascending= False, inplace=True)\n",
    "\n",
    "# View dataframe\n",
    "kin.head()"
   ]
  },
  {
   "cell_type": "markdown",
   "metadata": {},
   "source": [
    "## Create Histogram to display distribution of number of targets per kinase"
   ]
  },
  {
   "cell_type": "code",
   "execution_count": 97,
   "metadata": {},
   "outputs": [
    {
     "data": {
      "image/png": "[encoded data removed]",
      "text/plain": [
       "<matplotlib.figure.Figure at 0x7fdf7e88d320>"
      ]
     },
     "metadata": {},
     "output_type": "display_data"
    }
   ],
   "source": [
    "# Create histogram displaying the distribution of the number\n",
    "#targets per kinase\n",
    "kin.plot.hist(by = 'kinase_substrate_num', bins = 63)\n",
    "\n",
    "#Show histogram\n",
    "plt.show()"
   ]
  },
  {
   "cell_type": "markdown",
   "metadata": {},
   "source": [
    "# Creation of Final .GMT File"
   ]
  },
  {
   "cell_type": "markdown",
   "metadata": {},
   "source": [
    "## Create Dictionary of Tab-Separated Rows of the Dataframe"
   ]
  },
  {
   "cell_type": "code",
   "execution_count": null,
   "metadata": {},
   "outputs": [],
   "source": [
    "#Reset index of the dataframe\n",
    "kin.reset_index(inplace = True)\n",
    "\n",
    "#create column 'acc_merged' in which all 'acc' elements are joined by a \\t symbol\n",
    "kin['substrates_merged'] = ['\\t'.join(x) for x in kin['Substrates']]\n",
    "\n",
    "#drop the now-unneccesary column 'Substrates'\n",
    "kin.drop('Substrates', axis=1, inplace = True)\n",
    "\n",
    "#also drop the data-exploratory column 'kinase_substrate_num'\n",
    "kin.drop('kinase_substrate_num', axis=1, inplace = True)\n",
    "\n",
    "#Create dictionary 'PhosphoSite' with index numbers as keys\n",
    "PhosphoSite_num = dict([(key, '') for key in kin.index])\n",
    "\n",
    "# loop through rows with iterrows()\n",
    "for index, rowData in kin.iterrows():\n",
    "    line = ('\\t'.join(rowData))\n",
    "    PhosphoSite_num[index] = line"
   ]
  },
  {
   "cell_type": "markdown",
   "metadata": {},
   "source": [
    "## Write Info from Dictionary into a .GMT file"
   ]
  },
  {
   "cell_type": "code",
   "execution_count": null,
   "metadata": {
    "collapsed": true
   },
   "outputs": [],
   "source": [
    "#Transfer tab-separated info into a new txt file\n",
    "with open('PhosphoSite.gmt', 'w') as openfile:\n",
    "    for index in PhosphoSite_num:\n",
    "        openfile.write(str(PhosphoSite_num[index]) + '\\n')"
   ]
  },
  {
   "cell_type": "markdown",
   "metadata": {},
   "source": [
    "## Test: Reading in the Newly-Created . GMT File"
   ]
  },
  {
   "cell_type": "code",
   "execution_count": null,
   "metadata": {},
   "outputs": [],
   "source": [
    "df2 = pd.read_table('PhosphoSite.gmt', delimiter = '\\t', names = ['']*141)\n",
    "df2 = df2.replace(np.nan, '', regex=True)\n",
    "df2.rename(columns = {'': 'kinase'}, inplace = True)\n",
    "df2.rename(columns = {'.1': 'Description'}, inplace = True)\n",
    "\n",
    "colnames = dict([(key, 'Substrate') for key in df2.columns[2:]])\n",
    "df2.rename(columns= colnames, inplace = True)\n",
    "df2"
   ]
  }
 ],
 "metadata": {
  "kernelspec": {
   "display_name": "Python 3",
   "language": "python",
   "name": "python3"
  },
  "language_info": {
   "codemirror_mode": {
    "name": "ipython",
    "version": 3
   },
   "file_extension": ".py",
   "mimetype": "text/x-python",
   "name": "python",
   "nbconvert_exporter": "python",
   "pygments_lexer": "ipython3",
   "version": "3.6.1"
  }
 },
 "nbformat": 4,
 "nbformat_minor": 2
}
