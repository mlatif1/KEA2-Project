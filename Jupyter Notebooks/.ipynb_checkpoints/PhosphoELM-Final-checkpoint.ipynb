{
 "cells": [
  {
   "cell_type": "code",
   "execution_count": null,
   "metadata": {
    "collapsed": true
   },
   "outputs": [],
   "source": [
    "import numpy as np\n",
    "import pandas as pd\n",
    "\n",
    "import xmltodict\n",
    "import json\n",
    "import requests"
   ]
  },
  {
   "cell_type": "code",
   "execution_count": null,
   "metadata": {
    "collapsed": true
   },
   "outputs": [],
   "source": [
    "#read data from excel file into dataframe 'phospho_df'\n",
    "phospho_df = pd.read_excel('~/Desktop/phosphoELM_all_2015-04.xlsm')"
   ]
  },
  {
   "cell_type": "code",
   "execution_count": null,
   "metadata": {
    "collapsed": true,
    "scrolled": true
   },
   "outputs": [],
   "source": [
    "#select columns necessary for .gmt format and filter into new dataframe 'df'\n",
    "df = phospho_df[['acc', 'kinases']]\n",
    "\n",
    "#drop all columns with an 'NaN' value for the kinases\n",
    "df.dropna(axis = 0, inplace = True)\n",
    "\n",
    "#drop duplicate rows in the dataframe\n",
    "df.drop_duplicates(inplace = True)\n",
    "\n",
    "#set index of protein values 'acc' as kinases\n",
    "#creates new dataframe 'kin'\n",
    "kin = df.set_index('kinases')\n",
    "\n",
    "#Group kinases in dataframe 'kin'\n",
    "#Aggregate data in 'kin' according to kinase groups\n",
    "kin = kin.groupby('kinases').agg(lambda x: tuple(x))\n",
    "\n",
    "#Create a new column 'PhosphoELM' as description of data\n",
    "kin.insert(0, 'Description', 'PhosphoELM')"
   ]
  },
  {
   "cell_type": "code",
   "execution_count": null,
   "metadata": {
    "collapsed": true
   },
   "outputs": [],
   "source": [
    "ENRICHR_URL = 'https://www.ebi.ac.uk/proteins/api/proteins/%s'\n",
    "\n",
    "def uniprot_to_gene(url, protein_id)\n",
    "\n",
    "for index, rowData in acc.iteritems():\n",
    "    for x in rowData:\n",
    "        protein_id = str(x)\n",
    "        print(x)\n",
    "        response = requests.get(ENRICHR_URL % protein_id)\n",
    "        data = response.text\n",
    "        if not response.ok:\n",
    "            continue\n",
    "            #raise Exception('Error getting protein data from database')\n",
    "        data = xmltodict.parse(response.text)\n",
    "        data = data['entry']\n",
    "        root_elements = data['gene']\n",
    "        name_elements = root_elements['name']\n",
    "        name = list(name_elements.values())[1]\n",
    "        \n",
    "#Create dictionary 'PhosphoELM' with kinases as keys\n",
    "#PhosphoELM = dict([(key, []) for key in kin.index])\n",
    "\n",
    "#Fill dict with values corresponding to 'PhosphoELM' and relevant proteins\n",
    "#for key in kin.index:\n",
    "   # PhosphoELM[key] = ([['PhosphoELM'], [kin.acc[key]]])"
   ]
  },
  {
   "cell_type": "code",
   "execution_count": null,
   "metadata": {
    "collapsed": true
   },
   "outputs": [],
   "source": [
    "# fix the dataframe in order to have three columns:\n",
    "# kinases, description, acc_merged (acc, but all elements are joined by a \\t symbol)\n",
    "# with a reset index\n",
    "\n",
    "#reset index of the datframe to integers, restores column 'kinases'\n",
    "kin.reset_index(inplace = True)\n",
    "\n",
    "#create column 'acc_merged' in which all 'acc' elements are joined by a \\t symbol\n",
    "kin['acc_merged'] = ['\\t'.join(x) for x in kin['acc']]\n",
    "\n",
    "acc = pd.Series(kin['acc'])\n",
    "\n",
    "acc[4]\n",
    "\n",
    "#drop the now-unneccesary column 'acc'\n",
    "kin.drop('acc', axis=1, inplace = True)\n",
    "\n",
    "#Create dictionary 'PhosphoELM' with kinases as keys\n",
    "PhosphoELM = dict([(key, []) for key in kin.index])\n",
    "\n",
    "# loop through rows with iterrows()\n",
    "for index, rowData in kin.iterrows():\n",
    "    line = ['\\t'.join(rowData)]\n",
    "    PhosphoELM[index] = line"
   ]
  },
  {
   "cell_type": "code",
   "execution_count": null,
   "metadata": {
    "collapsed": true
   },
   "outputs": [],
   "source": [
    "#Transfer tsv info into a new txt file\n",
    "with open('PhosphoELM.txt', 'w') as openfile:\n",
    "    for index in PhosphoELM:\n",
    "        openfile.write(str(PhosphoELM[index]) + '\\n')"
   ]
  },
  {
   "cell_type": "code",
   "execution_count": null,
   "metadata": {},
   "outputs": [],
   "source": [
    "ENRICHR_URL = 'https://www.ebi.ac.uk/proteins/api/proteins/%s'\n",
    "\n",
    "for index, rowData in acc.iteritems():\n",
    "    for x in rowData:\n",
    "        protein_id = str(x)\n",
    "        print(x)\n",
    "        response = requests.get(ENRICHR_URL % protein_id)\n",
    "        data = response.text\n",
    "        if not response.ok:\n",
    "            continue\n",
    "            #raise Exception('Error getting protein data from database')\n",
    "        data = xmltodict.parse(response.text)\n",
    "        data = data['entry']\n",
    "        root_elements = data['gene']\n",
    "        name_elements = root_elements['name']\n",
    "        name = list(name_elements.values())[1]\n",
    "        \n",
    "#Create dictionary 'PhosphoELM' with kinases as keys\n",
    "#PhosphoELM = dict([(key, []) for key in kin.index])\n",
    "\n",
    "#Fill dict with values corresponding to 'PhosphoELM' and relevant proteins\n",
    "#for key in kin.index:\n",
    "   # PhosphoELM[key] = ([['PhosphoELM'], [kin.acc[key]]])"
   ]
  }
 ],
 "metadata": {
  "kernelspec": {
   "display_name": "Python 3",
   "language": "python",
   "name": "python3"
  },
  "language_info": {
   "codemirror_mode": {
    "name": "ipython",
    "version": 3
   },
   "file_extension": ".py",
   "mimetype": "text/x-python",
   "name": "python",
   "nbconvert_exporter": "python",
   "pygments_lexer": "ipython3",
   "version": "3.6.1"
  }
 },
 "nbformat": 4,
 "nbformat_minor": 2
}
