{
 "cells": [
  {
   "cell_type": "code",
   "execution_count": 29,
   "metadata": {
    "collapsed": true
   },
   "outputs": [],
   "source": [
    "import numpy as np\n",
    "import pandas as pd"
   ]
  },
  {
   "cell_type": "code",
   "execution_count": 163,
   "metadata": {
    "collapsed": true
   },
   "outputs": [],
   "source": [
    "#read data from excel file into dataframe 'phospho'\n",
    "phospho_df = pd.read_excel('~/Desktop/phosphoELM_all_2015-04.xlsm')"
   ]
  },
  {
   "cell_type": "code",
   "execution_count": 95,
   "metadata": {
    "scrolled": true
   },
   "outputs": [
    {
     "name": "stderr",
     "output_type": "stream",
     "text": [
      "/home/maayanlab/anaconda3/lib/python3.6/site-packages/ipykernel_launcher.py:5: SettingWithCopyWarning: \n",
      "A value is trying to be set on a copy of a slice from a DataFrame\n",
      "\n",
      "See the caveats in the documentation: http://pandas.pydata.org/pandas-docs/stable/indexing.html#indexing-view-versus-copy\n",
      "  \"\"\"\n"
     ]
    }
   ],
   "source": [
    "#select columns necessary for .gmt format and filter into new dataframe 'df'\n",
    "df = phospho_df[['acc', 'kinases']]\n",
    "\n",
    "#drop all columns with an 'NaN' value for the kinases\n",
    "df.dropna(axis = 0, inplace = True)\n",
    "\n",
    "# drop duplicate rows\n",
    "\n",
    "# set index 'kinases'"
   ]
  },
  {
   "cell_type": "code",
   "execution_count": 177,
   "metadata": {},
   "outputs": [
    {
     "name": "stdout",
     "output_type": "stream",
     "text": [
      "{'PAK2': [], 'Lck': [], 'PKB_group': [], 'SRC': [], 'IKK_group': [], 'Fyn': [], 'Abl': [], 'CDK2': [], 'CHK1': [], 'Aurora B': [], 'CDK1': [], 'PDK-1': [], 'RET': [], 'MAP3K7': [], 'PKC_theta': [], 'SGK_group': [], 'IKK_beta': [], 'MAPK8': [], 'MAPK9': [], 'MAPK10': [], 'JAK2': [], 'CDK_group': [], 'CHK2': [], 'ATM': [], 'TTK': [], 'PLK1': [], 'PKA_group': [], 'PKC_group': [], 'PKG/cGK_group': [], 'GSK-3_group': [], 'CK2_group': [], 'CaM-KII_alpha': [], 'MAPK3': [], 'MAPK1': [], 'EGFR': [], 'PKC_alpha': [], 'CK2_alpha': [], 'GSK-3_alpha': [], 'GSK-3_beta': [], 'SYK': [], 'AFK': [], 'INSR': [], 'MLCK_group': [], 'PHK_group': [], 'CK1_group': [], 'KIS': [], 'MAPK_group': [], 'CaM-KII_group': [], 'GRK-1': [], 'DNA-PK': [], 'RSK_group': [], 'PKB_beta': [], 'PAK1': [], 'MAPK14': [], 'CDK7': [], 'KSR1': [], 'PAK_group': [], 'PAK3': [], 'JNK_group': [], 'GRK_group': [], 'IGF1R': [], 'ErbB2': [], 'TRKA': [], 'MAPKAPK5': [], 'VRK1': [], 'DYRK2': [], 'HIPK2': [], 'Aurora A': [], 'DAPK1': [], 'MAPKAPK2': [], 'p70S6Kb': [], 'PKD1': [], 'PKC_delta': [], 'Csk': [], 'PDGFR_beta': [], 'WEE1': [], 'Mnk1': [], 'Mnk2': [], 'CCDPK': [], 'AMPK_group': [], 'CSF1R': [], 'GRK-2': [], 'GRK-5': [], 'CK1_alpha': [], 'Lyn': [], 'PDHK1': [], 'PDHK2': [], 'PDHK3': [], 'PDHK4': [], 'Met': [], 'PKC_epsilon': [], 'HCK': [], 'ROCK_group': [], 'ROCK1': [], 'MHCK': [], 'CDC2_drome': [], 'PKA_group_drome': [], 'CDPK': [], 'PKG1/cGK-I': [], 'PDGFR_group': [], 'Fgr': [], 'CaM-KI_group': [], 'p70S6K_group': [], 'p70S6K': [], 'FGFR1': [], 'PKC_beta': [], 'DMPK_group': [], 'BCKDK': [], 'FAK': [], 'CK1_delta': [], 'CDK5': [], 'CK2_beta': [], 'MAPK7': [], 'TRKB': [], 'DAPK3': [], 'DYRK3': [], 'RSK-3': [], 'RSK-2': [], 'CaM-KIV': [], 'ATR': [], 'MAPK13': [], 'Tyk2': [], 'RSK-1': [], 'FLT1': [], 'Tor_drome': [], 'CDK3': [], 'MAP2K4': [], 'IKK_alpha': [], 'PKA_alpha': [], 'FGFR4': [], 'Yes': [], 'mTOR': [], 'JAK3': [], 'LIMK1': [], 'LIMK2': [], 'TESK1': [], 'TESK2': [], 'CDK9': [], 'CK1_epsilon': [], 'MAP2K_group': [], 'MAP2K1': [], 'MAP2K2': [], 'PIK3CA': [], 'CDK4': [], 'FLT4': [], 'ZAP70': [], 'JAK1': [], 'RAF1': [], 'PIM-1': [], 'Eg3 kinase': [], 'BRSK1': [], 'PLK3': [], 'GRK-4': [], 'ILK': [], 'PKC_zeta': [], 'PDKC': [], 'SIK': [], 'ROCK2': [], 'Chak1': [], 'KDR': [], 'TGFbR2': [], 'MAP3K5': [], 'DYRK1B': [], 'ALK': [], 'IRAK1': [], 'PIK3CB': [], 'BTK': [], 'MAP2K7': [], 'Brk': [], 'DYRK1A': [], 'AAK1': [], 'FGFR_group': [], 'JAK_group': [], 'LOK': [], 'Tropomyosin kinase': [], 'MAP3K_group': [], 'MAP3K8': [], 'CkII_group_drome': [], 'RSK-5': [], 'IKK_epsilon': [], 'TBK1': [], 'CDK6': [], 'TXK': [], 'MAP4K1': [], 'HIPK3': [], 'MAPK12': [], 'SRC_group': [], 'PYK2': [], 'BMPR1B': [], 'TGFbR1': [], 'LKB1': [], 'MAP2K6': [], 'Fes': [], 'EphA3': [], 'EphA4': [], 'EphA8': [], 'EphB1': [], 'EphB5': [], 'EphB2': [], 'FGFR3': [], 'Kit': [], 'RON': [], 'ITK': [], 'Fer': [], 'TIE2': [], 'EphB3': [], 'CLK1': [], 'IRAK4': [], 'Mer': [], 'MAPK6': [], 'TLK1': [], 'MAP3K14': [], 'EIF2AK2': [], 'NEK2': [], 'PKC_eta': [], 'PDK-2': [], 'NEK6': [], 'CDK11': [], 'PIK3CD': [], 'GRK-6': [], 'Titin kinase': [], 'HRI': [], 'EIF2AK3': [], 'CaM-KI_alpha': [], 'BLK': [], 'PDGFR_alpha': [], 'PRP4': [], 'LRRK2': [], 'MARK_group': [], 'Axl': [], 'MAPK4': [], 'p38_group': [], 'MAPK11': [], 'MAP3K11': [], 'PIK3CG': [], 'GRK-3': [], 'TEC': [], 'DAPK_group': [], 'MRCKa': [], 'MAP2K3': [], 'PKG2/cGK-II': [], 'TNK2': [], 'MST1': [], 'NEK9': [], 'PASK': [], 'PAK5': [], 'NLK': [], 'WNK1': [], 'DCAMKL1': [], 'PKN1': [], 'NuaK1': [], 'Abl2': [], 'PKC_gamma': [], 'PKC_iota': [], 'PKD2': [], 'DAPK2': [], 'ICK': [], 'NDR1': [], 'NDR2': [], 'MST3': [], 'BMX': [], 'CaM-KK_alpha': [], 'EphA2': [], 'MAP3K1': [], 'MAP4K2': [], 'CaM-KII_delta': [], 'MOS': [], 'PCTAIRE1': [], 'TSSK3': [], 'STLK3': [], 'TIE1': [], 'HIPK1': [], 'FLT3': [], 'AKT_group_Caeel': [], 'mbk-2_Caeel': [], 'GSK-3_Caeel': [], 'unc-43_Caeel': [], 'CkI_alpha_drome': [], 'CaMKII_drome': [], 'fu_drome': [], 'mapk_group_drome': [], 'Mlck_drome': [], 'Pak_drome': [], 'hop_drome': [], 'PKC_group_drome': [], 'Caki_drome': [], 'SRC64B_drome': [], 'sgg_drome': [], 'CkII_beta_drome': [], 'Akt1_drome': [], 'Abl_drome': [], 'CK_group_Caeel': [], 'lit-1_Caeel': [], 'Ack_drome': [], 'Pka-C1_drome': [], 'LIMK1_drome': [], 'Atg1_drome': [], 'wts_drome': []}\n"
     ]
    }
   ],
   "source": [
    "#drop duplicate rows in the dataframe\n",
    "df.drop_duplicates(inplace = True)\n",
    "\n",
    "#Create dict with keys that are different kinases\n",
    "kinases = df.kinases\n",
    "keys = list(kinases)\n",
    "pro = dict([(key, []) for key in keys])\n",
    "\n",
    "#visualize altered dataframe w/out duplicate rows\n",
    "df.head(20)\n",
    "\n",
    "kin = df.set_index('kinases')\n",
    "\n",
    "\n",
    "k = kin.index\n",
    "index = k.unique()\n",
    "\n",
    "for key in pro:\n",
    "    for val in kin.acc:\n",
    "        if key == val.index:\n",
    "            pro[key].append(val)\n",
    "            \n",
    "print(pro)\n",
    "\n",
    "\n"
   ]
  },
  {
   "cell_type": "code",
   "execution_count": 153,
   "metadata": {},
   "outputs": [
    {
     "ename": "IndexError",
     "evalue": "only integers, slices (`:`), ellipsis (`...`), numpy.newaxis (`None`) and integer or boolean arrays are valid indices",
     "output_type": "error",
     "traceback": [
      "\u001b[0;31m---------------------------------------------------------------------------\u001b[0m",
      "\u001b[0;31mIndexError\u001b[0m                                Traceback (most recent call last)",
      "\u001b[0;32m<ipython-input-153-8d617687a638>\u001b[0m in \u001b[0;36m<module>\u001b[0;34m()\u001b[0m\n\u001b[1;32m     12\u001b[0m         \u001b[0;32mif\u001b[0m \u001b[0mi\u001b[0m \u001b[0;34m==\u001b[0m \u001b[0mkey\u001b[0m\u001b[0;34m:\u001b[0m\u001b[0;34m\u001b[0m\u001b[0m\n\u001b[1;32m     13\u001b[0m             \u001b[0mk\u001b[0m \u001b[0;34m=\u001b[0m \u001b[0mkin\u001b[0m\u001b[0;34m.\u001b[0m\u001b[0mloc\u001b[0m\u001b[0;34m[\u001b[0m\u001b[0mi\u001b[0m\u001b[0;34m]\u001b[0m\u001b[0;34m[\u001b[0m\u001b[0;34m'acc'\u001b[0m\u001b[0;34m]\u001b[0m\u001b[0;34m\u001b[0m\u001b[0m\n\u001b[0;32m---> 14\u001b[0;31m             \u001b[0mproteins\u001b[0m \u001b[0;34m=\u001b[0m \u001b[0mproteins\u001b[0m \u001b[0;34m+\u001b[0m \u001b[0;34m[\u001b[0m\u001b[0mk\u001b[0m\u001b[0;34m.\u001b[0m\u001b[0mvalues\u001b[0m\u001b[0;34m[\u001b[0m\u001b[0mi\u001b[0m\u001b[0;34m]\u001b[0m\u001b[0;34m]\u001b[0m\u001b[0;34m\u001b[0m\u001b[0m\n\u001b[0m\u001b[1;32m     15\u001b[0m     \u001b[0mlist_all\u001b[0m\u001b[0;34m.\u001b[0m\u001b[0mappend\u001b[0m\u001b[0;34m(\u001b[0m\u001b[0mproteins\u001b[0m\u001b[0;34m)\u001b[0m\u001b[0;34m\u001b[0m\u001b[0m\n\u001b[1;32m     16\u001b[0m \u001b[0;34m\u001b[0m\u001b[0m\n",
      "\u001b[0;31mIndexError\u001b[0m: only integers, slices (`:`), ellipsis (`...`), numpy.newaxis (`None`) and integer or boolean arrays are valid indices"
     ]
    }
   ],
   "source": [
    "index = kin.index\n",
    "list_all = []\n",
    "\n",
    "#buggy - it now also prints the index  --> why is that\n",
    "\n",
    "for i in kin.index:\n",
    "    #initialize empty list 'proteins', which will \n",
    "    #store associated proteins for each kinase\n",
    "    proteins = []\n",
    "    for key in pro:\n",
    "        if i == key:\n",
    "            k = kin.loc[i]['acc'] \n",
    "            proteins = proteins + [k.values[i]]\n",
    "    list_all.append(proteins)\n",
    "\n",
    "#print(list_all[0:3])"
   ]
  },
  {
   "cell_type": "code",
   "execution_count": 144,
   "metadata": {},
   "outputs": [
    {
     "name": "stderr",
     "output_type": "stream",
     "text": [
      "/home/maayanlab/anaconda3/lib/python3.6/site-packages/ipykernel_launcher.py:7: SettingWithCopyWarning: \n",
      "A value is trying to be set on a copy of a slice from a DataFrame\n",
      "\n",
      "See the caveats in the documentation: http://pandas.pydata.org/pandas-docs/stable/indexing.html#indexing-view-versus-copy\n",
      "  import sys\n"
     ]
    },
    {
     "name": "stdout",
     "output_type": "stream",
     "text": [
      "['Lck']\n"
     ]
    }
   ],
   "source": [
    "#Need to convert this dataframe into a dictionary, but we have keys (acc) that are the same and\n",
    "#values(kinases) that are different. As a result, I need to find a way to sort through the \n",
    "#kinases, group them into lists according to their corresponding 'acc', and then merge this list\n",
    "#with the condensed list of 'acc'\n",
    "\n",
    "#drop duplicate rows in the dataframe\n",
    "df.drop_duplicates(inplace = True)\n",
    "\n",
    "proteins = df.acc\n",
    "\n",
    "keys = list(proteins)\n",
    "\n",
    "pro = dict([(key, []) for key in keys])\n",
    "\n",
    "for p in proteins:\n",
    "    for key in pro:\n",
    "        if p == key:\n",
    "            l = list(proteins.index[proteins == p])\n",
    "            ls = [int(i) for i in l]\n",
    "            pro[key] = ls\n",
    "            \n",
    "kinases = df.kinases\n",
    "kin_all = []\n",
    "\n",
    "for key in pro:\n",
    "    #initialize empty kin, a list only of kinases for protein 'key'\n",
    "    kin = []\n",
    "    for i in pro[key]:\n",
    "        if kinases[i] not in kin:\n",
    "            kin = kin + [kinases[i]]\n",
    "    kin_all.append(kin)\n",
    "    \n",
    "pro.update(zip(keys, kin_all))\n",
    "\n",
    "print(pro['O14543'])\n"
   ]
  },
  {
   "cell_type": "code",
   "execution_count": null,
   "metadata": {
    "collapsed": true
   },
   "outputs": [],
   "source": []
  }
 ],
 "metadata": {
  "kernelspec": {
   "display_name": "Python 3",
   "language": "python",
   "name": "python3"
  },
  "language_info": {
   "codemirror_mode": {
    "name": "ipython",
    "version": 3
   },
   "file_extension": ".py",
   "mimetype": "text/x-python",
   "name": "python",
   "nbconvert_exporter": "python",
   "pygments_lexer": "ipython3",
   "version": "3.6.1"
  }
 },
 "nbformat": 4,
 "nbformat_minor": 2
}
