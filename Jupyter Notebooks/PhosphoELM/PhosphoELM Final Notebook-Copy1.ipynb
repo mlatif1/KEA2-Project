{
 "cells": [
  {
   "cell_type": "markdown",
   "metadata": {},
   "source": [
    "# PhosphoELM Data Formatting\n",
    "\n",
    "This file takes data regarding kinase-protein interactions from the PhosphoELM database and converts the data into the .gmt format. The data was retrieved from the PhosphoELM database on Wed, Jun 7 2017 16:27:31. This data will be added to enhance the KEA2 database and will be suitably formatted for use by ENRICHR and X2K."
   ]
  },
  {
   "cell_type": "markdown",
   "metadata": {},
   "source": [
    "## Import packages necessary for following program"
   ]
  },
  {
   "cell_type": "code",
   "execution_count": null,
   "metadata": {
    "collapsed": true
   },
   "outputs": [],
   "source": [
    "%run /home/maayanlab/Projects/Scripts/init.ipy"
   ]
  },
  {
   "cell_type": "markdown",
   "metadata": {},
   "source": [
    "## Create a dataframe from a file containing PhosphoELM data"
   ]
  },
  {
   "cell_type": "code",
   "execution_count": null,
   "metadata": {
    "collapsed": true
   },
   "outputs": [],
   "source": [
    "#read data from excel file into dataframe 'phospho_df'\n",
    "phospho_df = pd.read_excel('~/Desktop/phosphoELM_all_2015-04.xlsm')\n",
    "\n",
    "#View dataframe\n",
    "phospho_df.head()"
   ]
  },
  {
   "cell_type": "markdown",
   "metadata": {},
   "source": [
    "## Filter by Organism and Kinase/Substrate columns\n",
    "Filters out only columns necessary for .gmt file format (kinases and accession numbers) and esnures that only data from mice and humans are included."
   ]
  },
  {
   "cell_type": "code",
   "execution_count": null,
   "metadata": {
    "collapsed": true
   },
   "outputs": [],
   "source": [
    "#Define a list of selected organisms\n",
    "organisms = ['Mus musculus', 'Homo sapiens']\n",
    "\n",
    "#Get indices of rows whose species is in the selected organisms\n",
    "indices = [index for index, rowData in phospho_df.iterrows() if rowData['species'] in organisms]\n",
    "\n",
    "#Filter\n",
    "phospho_df_filter = phospho_df.loc[indices, ['acc', 'kinases', 'species']].dropna()\n",
    "\n",
    "#View dataframe\n",
    "phospho_df_filter.head()"
   ]
  },
  {
   "cell_type": "markdown",
   "metadata": {},
   "source": [
    "## Convert UniProt IDs to Gene Symbols"
   ]
  },
  {
   "cell_type": "code",
   "execution_count": null,
   "metadata": {
    "collapsed": true
   },
   "outputs": [],
   "source": [
    "#Use uniprot_to_symbol function from Scripts.py to convert\n",
    "phospho_df_filter['target_symbol'] = Scripts.uniprot_to_symbol(phospho_df_filter['acc'].tolist())\n",
    "\n",
    "#View dataframe\n",
    "phospho_df_filter.head()"
   ]
  },
  {
   "cell_type": "markdown",
   "metadata": {},
   "source": [
    "## Create a new column combining kinases and organism"
   ]
  },
  {
   "cell_type": "code",
   "execution_count": null,
   "metadata": {
    "collapsed": true
   },
   "outputs": [],
   "source": [
    "# Combine 'kinases' and 'species' into one column 'kinase_organism'\n",
    "phospho_df_filter['kinase_organism'] = ['_'.join([kinase, species]) for kinase, species in phospho_df_filter[['kinases', 'species']].as_matrix()]\n",
    "\n",
    "#View dataframe\n",
    "phospho_df_filter.head()"
   ]
  },
  {
   "cell_type": "markdown",
   "metadata": {},
   "source": [
    "## Perform preliminary data processing \n",
    "\n",
    "Select columns necessary for .gmt format and filter into new dataframe 'df'\n",
    "df = phospho_df[['acc', 'kinases', 'species']]We must drop duplicates and NaNs, as well as select only the columns necessary for the .gmt file format (the protein ids and kinase gene symbols). The species column is also selected for future filtering of data by desired species."
   ]
  },
  {
   "cell_type": "code",
   "execution_count": null,
   "metadata": {
    "collapsed": true
   },
   "outputs": [],
   "source": [
    "#select columns necessary for .gmt format and filter into new dataframe 'df'\n",
    "df = phospho_df_filter[['target_symbol', 'kinase_organism']]\n",
    "\n",
    "#drop duplicate rows in the dataframe\n",
    "df.drop_duplicates(inplace = True)\n",
    "\n",
    "#drop all rows with an 'NaN' value for the kinases\n",
    "df.dropna(axis = 0, inplace = True)\n",
    "\n",
    "#Visualize data\n",
    "df.head()"
   ]
  },
  {
   "cell_type": "markdown",
   "metadata": {},
   "source": [
    "## Set Index to 'Kinase_Organism' and Aggregate Kinase Targets"
   ]
  },
  {
   "cell_type": "code",
   "execution_count": null,
   "metadata": {
    "collapsed": true
   },
   "outputs": [],
   "source": [
    "df.set_index('kinase_organism')\n",
    "\n",
    "#Group kinases in dataframe 'kin'\n",
    "#Aggregate data in 'kin' according to kinase groups\n",
    "kin = df.groupby('kinase_organism').agg(lambda x: tuple(x))\n",
    "\n",
    "#Create a new column with 'PhosphoELM' as description of data\n",
    "kin.insert(0, 'Description', 'PhosphoELM')\n",
    "\n",
    "#Visualize Data\n",
    "kin.head()"
   ]
  },
  {
   "cell_type": "markdown",
   "metadata": {},
   "source": [
    "# Exploratory Data Analysis"
   ]
  },
  {
   "cell_type": "markdown",
   "metadata": {},
   "source": [
    "## Calculate Number of Protein targets for each kinase\n",
    "Create a new column with the number of substrates related to each kinase, and sort the dataframe by this column."
   ]
  },
  {
   "cell_type": "code",
   "execution_count": null,
   "metadata": {
    "collapsed": true
   },
   "outputs": [],
   "source": [
    "# Create column representing counts of protein targets per kinase\n",
    "kin['kinase_targets_num'] = [len(lst) for kinase, lst in kin['target_symbol'].iteritems()]\n",
    "\n",
    "# Sort kinases from max to min according to number of protein targets each has\n",
    "kin.sort_values(by = ['kinase_targets_num'], ascending= False, inplace=True)\n",
    "\n",
    "# Visualize data\n",
    "kin.head()"
   ]
  },
  {
   "cell_type": "markdown",
   "metadata": {},
   "source": [
    "## Create Histogram to display distribution of number of targets per kinase"
   ]
  },
  {
   "cell_type": "code",
   "execution_count": null,
   "metadata": {
    "collapsed": true,
    "scrolled": true
   },
   "outputs": [],
   "source": [
    "# Create histogram displaying the distribution of the number\n",
    "#targets per kinase\n",
    "kin.plot.hist(by = 'kinase_targets_num', bins = 34)\n",
    "\n",
    "#Show histogram\n",
    "plt.show()"
   ]
  },
  {
   "cell_type": "markdown",
   "metadata": {},
   "source": [
    "#  Creation of Final .GMT File"
   ]
  },
  {
   "cell_type": "markdown",
   "metadata": {},
   "source": [
    "## Create Dictionary of Tab-Separated Rows of the Dataframe"
   ]
  },
  {
   "cell_type": "code",
   "execution_count": null,
   "metadata": {
    "collapsed": true
   },
   "outputs": [],
   "source": [
    "#Reset index of the dataframe\n",
    "kin.reset_index(inplace = True)\n",
    "\n",
    "#create column 'target_symbol_merged' in which all 'target_symbol' elements are joined by a \\t symbol\n",
    "kin['target_symbol_merged'] = ['\\t'.join(x) for x in kin['target_symbol']]\n",
    "\n",
    "#drop the now-unneccesary column 'target_symbol' and 'kinase_targets_num'\n",
    "kin.drop('target_symbol', axis=1, inplace = True)\n",
    "kin.drop('kinase_targets_num', axis=1, inplace = True)\n",
    "\n",
    "#Create dictionary 'PhosphoELM' with index numbers as keys\n",
    "PhosphoELM_num = dict([(key, '') for key in kin.index])\n",
    "\n",
    "# loop through rows with iterrows()\n",
    "for index, rowData in kin.iterrows():\n",
    "    line = ('\\t'.join(rowData))\n",
    "    PhosphoELM_num[index] = line"
   ]
  },
  {
   "cell_type": "markdown",
   "metadata": {},
   "source": [
    "## Write Info from Dictionary into a .GMT file"
   ]
  },
  {
   "cell_type": "code",
   "execution_count": null,
   "metadata": {
    "collapsed": true
   },
   "outputs": [],
   "source": [
    "#Transfer tab-separated info into a new txt file\n",
    "with open('PhosphoELM.gmt', 'w') as openfile:\n",
    "    for index in PhosphoELM_num:\n",
    "        openfile.write(str(PhosphoELM_num[index]) + '\\n')"
   ]
  }
 ],
 "metadata": {
  "kernelspec": {
   "display_name": "Python 3",
   "language": "python",
   "name": "python3"
  },
  "language_info": {
   "codemirror_mode": {
    "name": "ipython",
    "version": 3
   },
   "file_extension": ".py",
   "mimetype": "text/x-python",
   "name": "python",
   "nbconvert_exporter": "python",
   "pygments_lexer": "ipython3",
   "version": "3.6.1"
  }
 },
 "nbformat": 4,
 "nbformat_minor": 2
}
