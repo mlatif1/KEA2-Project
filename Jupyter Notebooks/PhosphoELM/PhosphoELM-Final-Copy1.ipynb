{
 "cells": [
  {
   "cell_type": "code",
   "execution_count": null,
   "metadata": {
    "collapsed": true
   },
   "outputs": [],
   "source": [
    "import numpy as np\n",
    "import pandas as pd\n",
    "\n",
    "import xmltodict\n",
    "import json\n",
    "import requests"
   ]
  },
  {
   "cell_type": "code",
   "execution_count": null,
   "metadata": {
    "collapsed": true
   },
   "outputs": [],
   "source": [
    "#read data from excel file into dataframe 'phospho_df'\n",
    "phospho_df = pd.read_excel('~/Desktop/phosphoELM_all_2015-04.xlsm')"
   ]
  },
  {
   "cell_type": "markdown",
   "metadata": {},
   "source": [
    "# This is a title\n",
    "## This is a subtitle\n",
    "\n",
    "hello you can write in **bold**, *italic*\n",
    "\n",
    "lists:\n",
    "- asd\n",
    "- asd\n",
    "- asd\n",
    "\n",
    "\n",
    "numbered lists:\n",
    "1. asd\n",
    "2. 234\n",
    "3. 46"
   ]
  },
  {
   "cell_type": "code",
   "execution_count": null,
   "metadata": {
    "scrolled": true
   },
   "outputs": [],
   "source": [
    "#select columns necessary for .gmt format and filter into new dataframe 'df'\n",
    "df = phospho_df[['acc', 'kinases']]\n",
    "\n",
    "#drop all columns with an 'NaN' value for the kinases\n",
    "df.dropna(axis = 0, inplace = True)\n",
    "\n",
    "#drop duplicate rows in the dataframe\n",
    "df.drop_duplicates(inplace = True)\n",
    "\n",
    "#set index of protein values 'acc' as kinases\n",
    "#creates new dataframe 'kin'\n",
    "kin = df.set_index('kinases')\n",
    "\n",
    "#Create dictionary 'PhosphoELM' with kinases as keys\n",
    "PhosphoELM = dict([(key, []) for key in kin.index])\n",
    "\n",
    "#Group kinases in dataframe 'kin'\n",
    "#Aggregate data in 'kin' according to kinase groups\n",
    "#kin = kin.groupby('kinases').agg(lambda x: tuple(x))\n",
    "\n",
    "#Create a new column 'PhosphoELM' as description of data\n",
    "#kin.insert(0, 'Description', 'PhosphoELM')"
   ]
  },
  {
   "cell_type": "code",
   "execution_count": 152,
   "metadata": {
    "scrolled": false
   },
   "outputs": [
    {
     "name": "stdout",
     "output_type": "stream",
     "text": [
      "O08605\n",
      "O14543\n",
      "O14746\n",
      "O14746\n",
      "O14920\n",
      "O15111\n",
      "O15117\n",
      "O15162\n",
      "O15162\n",
      "O15350\n",
      "O15350\n",
      "O15350\n",
      "O15360\n",
      "O15392\n",
      "O15392\n",
      "O15530\n",
      "O15530\n",
      "O15530\n",
      "O43318\n",
      "O43516\n",
      "O43524\n",
      "O43524\n",
      "O43524\n",
      "O54918\n",
      "O54918\n",
      "O54918\n",
      "O60674\n",
      "O75553\n",
      "O96017\n",
      "O96017\n",
      "O96017\n",
      "O96017\n",
      "P00176\n",
      "P00340\n",
      "P00511\n",
      "P00514\n",
      "P00515\n",
      "P00515\n",
      "P00515\n",
      "P00516\n",
      "P00517\n",
      "P00519\n",
      "P00519\n",
      "P00519\n",
      "P00520\n",
      "P00520\n",
      "P00523\n",
      "P00523\n",
      "P00523\n",
      "P00523\n",
      "P00528\n",
      "P00533\n",
      "P00533\n",
      "P00533\n",
      "P00533\n",
      "P00533\n",
      "P00533\n",
      "P00533\n",
      "P00533\n",
      "P00698\n",
      "P00736\n",
      "P00736\n",
      "P00860\n",
      "P01099\n",
      "P01103\n",
      "P01103\n",
      "P01106\n",
      "P01106\n",
      "P01106\n",
      "P01106\n",
      "P01233\n",
      "P01350\n",
      "P01589\n",
      "P02253\n",
      "P02253\n",
      "P0C0S9\n"
     ]
    },
    {
     "ename": "KeyError",
     "evalue": "'gene'",
     "output_type": "error",
     "traceback": [
      "\u001b[0;31m---------------------------------------------------------------------------\u001b[0m",
      "\u001b[0;31mKeyError\u001b[0m                                  Traceback (most recent call last)",
      "\u001b[0;32m<ipython-input-152-74551e4974d4>\u001b[0m in \u001b[0;36m<module>\u001b[0;34m()\u001b[0m\n\u001b[1;32m     19\u001b[0m     \u001b[0mprotein_id\u001b[0m \u001b[0;34m=\u001b[0m \u001b[0;34m'%s'\u001b[0m \u001b[0;34m%\u001b[0m\u001b[0mrow\u001b[0m\u001b[0;34m\u001b[0m\u001b[0m\n\u001b[1;32m     20\u001b[0m     \u001b[0mprint\u001b[0m\u001b[0;34m(\u001b[0m\u001b[0mrow\u001b[0m\u001b[0;34m)\u001b[0m\u001b[0;34m\u001b[0m\u001b[0m\n\u001b[0;32m---> 21\u001b[0;31m     \u001b[0mgeneS\u001b[0m \u001b[0;34m=\u001b[0m \u001b[0muniprot_to_gene\u001b[0m\u001b[0;34m(\u001b[0m\u001b[0mprotein_id\u001b[0m\u001b[0;34m)\u001b[0m\u001b[0;34m\u001b[0m\u001b[0m\n\u001b[0m\u001b[1;32m     22\u001b[0m     \u001b[0mPhosphoELM\u001b[0m\u001b[0;34m[\u001b[0m\u001b[0mkey\u001b[0m\u001b[0;34m]\u001b[0m \u001b[0;34m=\u001b[0m \u001b[0mPhosphoELM\u001b[0m\u001b[0;34m[\u001b[0m\u001b[0mkey\u001b[0m\u001b[0;34m]\u001b[0m \u001b[0;34m+\u001b[0m \u001b[0;34m[\u001b[0m\u001b[0mgeneS\u001b[0m\u001b[0;34m]\u001b[0m\u001b[0;34m\u001b[0m\u001b[0m\n\u001b[1;32m     23\u001b[0m \u001b[0;34m\u001b[0m\u001b[0m\n",
      "\u001b[0;32m<ipython-input-152-74551e4974d4>\u001b[0m in \u001b[0;36muniprot_to_gene\u001b[0;34m(protein_id)\u001b[0m\n\u001b[1;32m      7\u001b[0m     \u001b[0;32melse\u001b[0m\u001b[0;34m:\u001b[0m\u001b[0;34m\u001b[0m\u001b[0m\n\u001b[1;32m      8\u001b[0m         \u001b[0mdata\u001b[0m \u001b[0;34m=\u001b[0m \u001b[0mxmltodict\u001b[0m\u001b[0;34m.\u001b[0m\u001b[0mparse\u001b[0m\u001b[0;34m(\u001b[0m\u001b[0mresponse\u001b[0m\u001b[0;34m.\u001b[0m\u001b[0mtext\u001b[0m\u001b[0;34m)\u001b[0m\u001b[0;34m\u001b[0m\u001b[0m\n\u001b[0;32m----> 9\u001b[0;31m         \u001b[0mnames\u001b[0m \u001b[0;34m=\u001b[0m \u001b[0mdata\u001b[0m\u001b[0;34m[\u001b[0m\u001b[0;34m'entry'\u001b[0m\u001b[0;34m]\u001b[0m\u001b[0;34m[\u001b[0m\u001b[0;34m'gene'\u001b[0m\u001b[0;34m]\u001b[0m\u001b[0;34m[\u001b[0m\u001b[0;34m'name'\u001b[0m\u001b[0;34m]\u001b[0m\u001b[0;34m\u001b[0m\u001b[0m\n\u001b[0m\u001b[1;32m     10\u001b[0m         \u001b[0;32mif\u001b[0m \u001b[0mtype\u001b[0m\u001b[0;34m(\u001b[0m\u001b[0mnames\u001b[0m\u001b[0;34m)\u001b[0m \u001b[0;34m==\u001b[0m \u001b[0mlist\u001b[0m\u001b[0;34m:\u001b[0m\u001b[0;34m\u001b[0m\u001b[0m\n\u001b[1;32m     11\u001b[0m             \u001b[0mname\u001b[0m \u001b[0;34m=\u001b[0m \u001b[0mlist\u001b[0m\u001b[0;34m(\u001b[0m\u001b[0mnames\u001b[0m\u001b[0;34m[\u001b[0m\u001b[0;36m0\u001b[0m\u001b[0;34m]\u001b[0m\u001b[0;34m.\u001b[0m\u001b[0mvalues\u001b[0m\u001b[0;34m(\u001b[0m\u001b[0;34m)\u001b[0m\u001b[0;34m)\u001b[0m\u001b[0;34m[\u001b[0m\u001b[0;36m1\u001b[0m\u001b[0;34m]\u001b[0m\u001b[0;34m\u001b[0m\u001b[0m\n",
      "\u001b[0;31mKeyError\u001b[0m: 'gene'"
     ]
    }
   ],
   "source": [
    "ENRICHR_URL = 'https://www.ebi.ac.uk/proteins/api/proteins/%s'\n",
    "\n",
    "def uniprot_to_gene(protein_id):\n",
    "    response = requests.get(ENRICHR_URL % protein_id)\n",
    "    if not response.ok:\n",
    "        name = np.NaN\n",
    "    else:\n",
    "        data = xmltodict.parse(response.text)\n",
    "        entry = data['entry']\n",
    "        \n",
    "        # check if entry contains 'gene'\n",
    "        if 'gene' in entry.keys():\n",
    "            names = data['entry']['gene']['name']\n",
    "            if type(names) == list:\n",
    "                name = list(names[0].values())[1]\n",
    "            else:\n",
    "                name = list(names.values())[1]\n",
    "        else:\n",
    "            \n",
    "    return name\n",
    "\n",
    "    \n",
    "for key, row in kin.acc.iteritems():\n",
    "    \n",
    "    protein_id = '%s' %row\n",
    "    print(row)\n",
    "    geneS = uniprot_to_gene(protein_id)\n",
    "    PhosphoELM[key] = PhosphoELM[key] + [geneS]\n",
    "    \n",
    "    \n",
    "    #look into plotly"
   ]
  },
  {
   "cell_type": "code",
   "execution_count": null,
   "metadata": {
    "collapsed": true
   },
   "outputs": [],
   "source": [
    "# fix the dataframe in order to have three columns:\n",
    "# kinases, description, acc_merged (acc, but all elements are joined by a \\t symbol)\n",
    "# with a reset index\n",
    "\n",
    "#reset index of the datframe to integers, restores column 'kinases'\n",
    "kin.reset_index(inplace = True)\n",
    "\n",
    "#create column 'acc_merged' in which all 'acc' elements are joined by a \\t symbol\n",
    "kin['acc_merged'] = ['\\t'.join(x) for x in kin['acc']]\n",
    "\n",
    "acc = pd.Series(kin['acc'])\n",
    "\n",
    "acc[4]\n",
    "\n",
    "#drop the now-unneccesary column 'acc'\n",
    "kin.drop('acc', axis=1, inplace = True)\n",
    "\n",
    "#Create dictionary 'PhosphoELM' with kinases as keys\n",
    "PhosphoELM = dict([(key, []) for key in kin.index])\n",
    "\n",
    "# loop through rows with iterrows()\n",
    "for index, rowData in kin.iterrows():\n",
    "    line = ['\\t'.join(rowData)]\n",
    "    PhosphoELM[index] = line"
   ]
  },
  {
   "cell_type": "code",
   "execution_count": null,
   "metadata": {},
   "outputs": [],
   "source": [
    "\n",
    "\n",
    "for index, rowData in acc.iteritems():\n",
    "    for x in rowData:\n",
    "        protein_id = str(x)\n",
    "        print(x)\n",
    "        response = requests.get(ENRICHR_URL % protein_id)\n",
    "        data = response.text\n",
    "        if not response.ok:\n",
    "            continue\n",
    "            #raise Exception('Error getting protein data from database')\n",
    "        \n"
   ]
  },
  {
   "cell_type": "code",
   "execution_count": null,
   "metadata": {
    "collapsed": true
   },
   "outputs": [],
   "source": [
    "#Transfer tsv info into a new txt file\n",
    "with open('PhosphoELM.txt', 'w') as openfile:\n",
    "    for index in PhosphoELM:\n",
    "        openfile.write(str(PhosphoELM[index]) + '\\n')"
   ]
  },
  {
   "cell_type": "code",
   "execution_count": null,
   "metadata": {
    "collapsed": true
   },
   "outputs": [],
   "source": [
    "ENRICHR_URL = 'https://www.ebi.ac.uk/proteins/api/proteins/%s'\n",
    "\n",
    "for index, rowData in acc.iteritems():\n",
    "    for x in rowData:\n",
    "        protein_id = str(x)\n",
    "        print(x)\n",
    "        response = requests.get(ENRICHR_URL % protein_id)\n",
    "        data = response.text\n",
    "        if not response.ok:\n",
    "            continue\n",
    "            #raise Exception('Error getting protein data from database')\n",
    "        data = xmltodict.parse(response.text)\n",
    "        data = data['entry']\n",
    "        root_elements = data['gene']\n",
    "        name_elements = root_elements['name']\n",
    "        name = list(name_elements.values())[1]\n",
    "        \n",
    "#Create dictionary 'PhosphoELM' with kinases as keys\n",
    "#PhosphoELM = dict([(key, []) for key in kin.index])\n",
    "\n",
    "#Fill dict with values corresponding to 'PhosphoELM' and relevant proteins\n",
    "#for key in kin.index:\n",
    "   # PhosphoELM[key] = ([['PhosphoELM'], [kin.acc[key]]])"
   ]
  }
 ],
 "metadata": {
  "kernelspec": {
   "display_name": "Python 3",
   "language": "python",
   "name": "python3"
  },
  "language_info": {
   "codemirror_mode": {
    "name": "ipython",
    "version": 3
   },
   "file_extension": ".py",
   "mimetype": "text/x-python",
   "name": "python",
   "nbconvert_exporter": "python",
   "pygments_lexer": "ipython3",
   "version": "3.6.1"
  }
 },
 "nbformat": 4,
 "nbformat_minor": 2
}
