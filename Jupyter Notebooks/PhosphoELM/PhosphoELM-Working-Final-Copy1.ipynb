{
 "cells": [
  {
   "cell_type": "markdown",
   "metadata": {},
   "source": [
    "# PhosphoELM Data Formating\n",
    "\n",
    "This file takes data regarding kinase-protein interactions from the PhosphoELM database and converts the data into the .gmt format. The data was retrieved from the PhosphoELM database on Wed, Jun 7 2017 16:27:31. This data will be added to enhance the KEA2 database and will be suitably formatted for use by ENRICHR and X2K."
   ]
  },
  {
   "cell_type": "code",
   "execution_count": null,
   "metadata": {
    "collapsed": true
   },
   "outputs": [],
   "source": [
    "import numpy as np\n",
    "import pandas as pd\n",
    "import xmltodict\n",
    "import json\n",
    "import requests"
   ]
  },
  {
   "cell_type": "code",
   "execution_count": null,
   "metadata": {
    "collapsed": true
   },
   "outputs": [],
   "source": [
    "#read data from excel file into dataframe 'phospho_df'\n",
    "phospho_df = pd.read_excel('~/Desktop/phosphoELM_all_2015-04.xlsm')"
   ]
  },
  {
   "cell_type": "markdown",
   "metadata": {},
   "source": [
    "# This is a title\n",
    "## This is a subtitle\n",
    "\n",
    "hello you can write in **bold**, *italic*\n",
    "\n",
    "lists:\n",
    "- asd\n",
    "- asd\n",
    "- asd\n",
    "\n",
    "\n",
    "numbered lists:\n",
    "1. asd\n",
    "2. 234\n",
    "3. 46"
   ]
  },
  {
   "cell_type": "code",
   "execution_count": null,
   "metadata": {
    "collapsed": true,
    "scrolled": true
   },
   "outputs": [],
   "source": [
    "#select columns necessary for .gmt format and filter into new dataframe 'df'\n",
    "df = phospho_df[['acc', 'kinases']]\n",
    "\n",
    "#drop all columns with an 'NaN' value for the kinases\n",
    "df.dropna(axis = 0, inplace = True)\n",
    "\n",
    "#drop duplicate rows in the dataframe\n",
    "df.drop_duplicates(inplace = True)\n",
    "\n",
    "#set index of protein values 'acc' as kinases\n",
    "#creates new dataframe 'kin'\n",
    "kin = df.set_index('kinases')\n",
    "\n",
    "#Create dictionary 'PhosphoELM' with kinases as keys\n",
    "PhosphoELM = dict([(key, []) for key in kin.index])"
   ]
  },
  {
   "cell_type": "code",
   "execution_count": null,
   "metadata": {
    "collapsed": true,
    "scrolled": false
   },
   "outputs": [],
   "source": [
    "#Define url to obtain gene symbol from API\n",
    "ENRICHR_URL = 'https://www.ebi.ac.uk/proteins/api/proteins/%s'\n",
    "\n",
    "#Define function uniprot_to_gene which converts uniprot_id into the gene symbol\n",
    "def uniprot_to_gene(protein_id):\n",
    "    response = requests.get(ENRICHR_URL % protein_id)\n",
    "    if not response.ok:\n",
    "        name = np.NaN\n",
    "    else:\n",
    "        data = xmltodict.parse(response.text)\n",
    "        entry = data['entry']\n",
    "        # check if entry contains 'gene'\n",
    "        if 'gene' in entry.keys():\n",
    "            data = data['entry']['gene']\n",
    "            if type(data) == list:\n",
    "                name = str(protein_id)\n",
    "            else:\n",
    "                names = data['name']\n",
    "                if type(names) == list:\n",
    "                    name = list(names[0].values())[1]\n",
    "                else:\n",
    "                    name = list(names.values())[1]\n",
    "        else:\n",
    "            name = data['entry']['name']         \n",
    "    return name\n",
    "\n",
    "    \n",
    "for key, row in kin.acc.iteritems():\n",
    "    \n",
    "    protein_id = '%s' %row\n",
    "    geneS = uniprot_to_gene(protein_id)\n",
    "    PhosphoELM[key] = PhosphoELM[key] + [geneS]\n",
    "    \n",
    "\n",
    "kin = pd.DaatFrame.from_dict(PhosphoELM, orient = index)\n",
    "\n",
    "kin.head()"
   ]
  },
  {
   "cell_type": "code",
   "execution_count": null,
   "metadata": {
    "collapsed": true
   },
   "outputs": [],
   "source": [
    "#Group kinases in dataframe 'kin'\n",
    "#Aggregate data in 'kin' according to kinase groups\n",
    "kin = kin.groupby('kinases').agg(lambda x: tuple(x))\n",
    "\n",
    "#Create a new column 'PhosphoELM' as description of data\n",
    "kin.insert(0, 'Description', 'PhosphoELM')"
   ]
  },
  {
   "cell_type": "code",
   "execution_count": null,
   "metadata": {
    "collapsed": true
   },
   "outputs": [],
   "source": [
    "### NOTES to self\n",
    "\n",
    "#look into plotly"
   ]
  },
  {
   "cell_type": "code",
   "execution_count": null,
   "metadata": {
    "collapsed": true
   },
   "outputs": [],
   "source": [
    "# fix the dataframe in order to have three columns:\n",
    "# kinases, description, acc_merged (acc, but all elements are joined by a \\t symbol)\n",
    "# with a reset index\n",
    "\n",
    "#reset index of the datframe to integers, restores column 'kinases'\n",
    "kin.reset_index(inplace = True)\n",
    "\n",
    "#create column 'acc_merged' in which all 'acc' elements are joined by a \\t symbol\n",
    "kin['acc_merged'] = ['\\t'.join(x) for x in kin['acc']]\n",
    "\n",
    "acc = pd.Series(kin['acc'])\n",
    "\n",
    "acc[4]\n",
    "\n",
    "#drop the now-unneccesary column 'acc'\n",
    "kin.drop('acc', axis=1, inplace = True)\n",
    "\n",
    "#Create dictionary 'PhosphoELM' with kinases as keys\n",
    "PhosphoELM = dict([(key, []) for key in kin.index])\n",
    "\n",
    "# loop through rows with iterrows()\n",
    "for index, rowData in kin.iterrows():\n",
    "    line = ['\\t'.join(rowData)]\n",
    "    PhosphoELM[index] = line"
   ]
  },
  {
   "cell_type": "code",
   "execution_count": null,
   "metadata": {
    "collapsed": true
   },
   "outputs": [],
   "source": [
    "#Transfer tsv info into a new txt file\n",
    "with open('PhosphoELM.txt', 'w') as openfile:\n",
    "    for index in PhosphoELM:\n",
    "        openfile.write(str(PhosphoELM[index]) + '\\n')"
   ]
  }
 ],
 "metadata": {
  "kernelspec": {
   "display_name": "Python 3",
   "language": "python",
   "name": "python3"
  },
  "language_info": {
   "codemirror_mode": {
    "name": "ipython",
    "version": 3
   },
   "file_extension": ".py",
   "mimetype": "text/x-python",
   "name": "python",
   "nbconvert_exporter": "python",
   "pygments_lexer": "ipython3",
   "version": "3.6.1"
  }
 },
 "nbformat": 4,
 "nbformat_minor": 2
}
