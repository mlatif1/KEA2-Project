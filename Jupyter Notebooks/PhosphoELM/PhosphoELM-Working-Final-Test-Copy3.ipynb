{
 "cells": [
  {
   "cell_type": "markdown",
   "metadata": {},
   "source": [
    "# PhosphoELM Data Formating\n",
    "\n",
    "This file takes data regarding kinase-protein interactions from the PhosphoELM database and converts the data into the .gmt format. The data was retrieved from the PhosphoELM database on Wed, Jun 7 2017 16:27:31. This data will be added to enhance the KEA2 database and will be suitably formatted for use by ENRICHR and X2K."
   ]
  },
  {
   "cell_type": "markdown",
   "metadata": {},
   "source": [
    "## Import packages necessary for following program"
   ]
  },
  {
   "cell_type": "code",
   "execution_count": 8,
   "metadata": {
    "collapsed": true
   },
   "outputs": [],
   "source": [
    "%run /home/maayanlab/Projects/Scripts/init.ipy"
   ]
  },
  {
   "cell_type": "markdown",
   "metadata": {},
   "source": [
    "## Create a dataframe from a file containing PhosphoELM data"
   ]
  },
  {
   "cell_type": "code",
   "execution_count": 5,
   "metadata": {},
   "outputs": [
    {
     "data": {
      "text/html": [
       "<div>\n",
       "<style>\n",
       "    .dataframe thead tr:only-child th {\n",
       "        text-align: right;\n",
       "    }\n",
       "\n",
       "    .dataframe thead th {\n",
       "        text-align: left;\n",
       "    }\n",
       "\n",
       "    .dataframe tbody tr th {\n",
       "        vertical-align: top;\n",
       "    }\n",
       "</style>\n",
       "<table border=\"1\" class=\"dataframe\">\n",
       "  <thead>\n",
       "    <tr style=\"text-align: right;\">\n",
       "      <th></th>\n",
       "      <th>acc</th>\n",
       "      <th>sequence</th>\n",
       "      <th>position</th>\n",
       "      <th>code</th>\n",
       "      <th>pmids</th>\n",
       "      <th>kinases</th>\n",
       "      <th>source</th>\n",
       "      <th>species</th>\n",
       "      <th>entry_date</th>\n",
       "    </tr>\n",
       "  </thead>\n",
       "  <tbody>\n",
       "    <tr>\n",
       "      <th>0</th>\n",
       "      <td>O08539</td>\n",
       "      <td>MAEMGSKGVTAGKIASNVQKKLTRAQEKVLQKLGKADETKDEQFEQ...</td>\n",
       "      <td>304</td>\n",
       "      <td>S</td>\n",
       "      <td>17114649</td>\n",
       "      <td>NaN</td>\n",
       "      <td>HTP</td>\n",
       "      <td>Mus musculus</td>\n",
       "      <td>2005-03-14 12:16:11.108314+01</td>\n",
       "    </tr>\n",
       "    <tr>\n",
       "      <th>1</th>\n",
       "      <td>O08539</td>\n",
       "      <td>MAEMGSKGVTAGKIASNVQKKLTRAQEKVLQKLGKADETKDEQFEQ...</td>\n",
       "      <td>304</td>\n",
       "      <td>S</td>\n",
       "      <td>17242355</td>\n",
       "      <td>NaN</td>\n",
       "      <td>HTP</td>\n",
       "      <td>Mus musculus</td>\n",
       "      <td>2005-03-14 12:16:11.108314+01</td>\n",
       "    </tr>\n",
       "    <tr>\n",
       "      <th>2</th>\n",
       "      <td>O08539</td>\n",
       "      <td>MAEMGSKGVTAGKIASNVQKKLTRAQEKVLQKLGKADETKDEQFEQ...</td>\n",
       "      <td>304</td>\n",
       "      <td>S</td>\n",
       "      <td>15345747</td>\n",
       "      <td>NaN</td>\n",
       "      <td>HTP</td>\n",
       "      <td>Mus musculus</td>\n",
       "      <td>2005-03-14 12:16:11.108314+01</td>\n",
       "    </tr>\n",
       "    <tr>\n",
       "      <th>3</th>\n",
       "      <td>O08539</td>\n",
       "      <td>MAEMGSKGVTAGKIASNVQKKLTRAQEKVLQKLGKADETKDEQFEQ...</td>\n",
       "      <td>296</td>\n",
       "      <td>S</td>\n",
       "      <td>17114649</td>\n",
       "      <td>NaN</td>\n",
       "      <td>HTP</td>\n",
       "      <td>Mus musculus</td>\n",
       "      <td>2007-07-13 15:17:45.666219+02</td>\n",
       "    </tr>\n",
       "    <tr>\n",
       "      <th>4</th>\n",
       "      <td>O08539</td>\n",
       "      <td>MAEMGSKGVTAGKIASNVQKKLTRAQEKVLQKLGKADETKDEQFEQ...</td>\n",
       "      <td>296</td>\n",
       "      <td>S</td>\n",
       "      <td>17242355</td>\n",
       "      <td>NaN</td>\n",
       "      <td>HTP</td>\n",
       "      <td>Mus musculus</td>\n",
       "      <td>2007-07-13 15:17:45.666219+02</td>\n",
       "    </tr>\n",
       "  </tbody>\n",
       "</table>\n",
       "</div>"
      ],
      "text/plain": [
       "      acc                                           sequence  position code  \\\n",
       "0  O08539  MAEMGSKGVTAGKIASNVQKKLTRAQEKVLQKLGKADETKDEQFEQ...       304    S   \n",
       "1  O08539  MAEMGSKGVTAGKIASNVQKKLTRAQEKVLQKLGKADETKDEQFEQ...       304    S   \n",
       "2  O08539  MAEMGSKGVTAGKIASNVQKKLTRAQEKVLQKLGKADETKDEQFEQ...       304    S   \n",
       "3  O08539  MAEMGSKGVTAGKIASNVQKKLTRAQEKVLQKLGKADETKDEQFEQ...       296    S   \n",
       "4  O08539  MAEMGSKGVTAGKIASNVQKKLTRAQEKVLQKLGKADETKDEQFEQ...       296    S   \n",
       "\n",
       "      pmids kinases source       species                     entry_date  \n",
       "0  17114649     NaN    HTP  Mus musculus  2005-03-14 12:16:11.108314+01  \n",
       "1  17242355     NaN    HTP  Mus musculus  2005-03-14 12:16:11.108314+01  \n",
       "2  15345747     NaN    HTP  Mus musculus  2005-03-14 12:16:11.108314+01  \n",
       "3  17114649     NaN    HTP  Mus musculus  2007-07-13 15:17:45.666219+02  \n",
       "4  17242355     NaN    HTP  Mus musculus  2007-07-13 15:17:45.666219+02  "
      ]
     },
     "execution_count": 5,
     "metadata": {},
     "output_type": "execute_result"
    }
   ],
   "source": [
    "#read data from excel file into dataframe 'phospho_df'\n",
    "phospho_df = pd.read_excel('~/Desktop/phosphoELM_all_2015-04.xlsm')\n",
    "phospho_df.head()"
   ]
  },
  {
   "cell_type": "markdown",
   "metadata": {},
   "source": [
    "## Filter by Organism"
   ]
  },
  {
   "cell_type": "code",
   "execution_count": 6,
   "metadata": {},
   "outputs": [
    {
     "data": {
      "text/html": [
       "<div>\n",
       "<style>\n",
       "    .dataframe thead tr:only-child th {\n",
       "        text-align: right;\n",
       "    }\n",
       "\n",
       "    .dataframe thead th {\n",
       "        text-align: left;\n",
       "    }\n",
       "\n",
       "    .dataframe tbody tr th {\n",
       "        vertical-align: top;\n",
       "    }\n",
       "</style>\n",
       "<table border=\"1\" class=\"dataframe\">\n",
       "  <thead>\n",
       "    <tr style=\"text-align: right;\">\n",
       "      <th></th>\n",
       "      <th>acc</th>\n",
       "      <th>kinases</th>\n",
       "      <th>species</th>\n",
       "    </tr>\n",
       "  </thead>\n",
       "  <tbody>\n",
       "    <tr>\n",
       "      <th>9</th>\n",
       "      <td>O08605</td>\n",
       "      <td>PAK2</td>\n",
       "      <td>Mus musculus</td>\n",
       "    </tr>\n",
       "    <tr>\n",
       "      <th>10</th>\n",
       "      <td>O08605</td>\n",
       "      <td>PAK2</td>\n",
       "      <td>Mus musculus</td>\n",
       "    </tr>\n",
       "    <tr>\n",
       "      <th>14</th>\n",
       "      <td>O14543</td>\n",
       "      <td>Lck</td>\n",
       "      <td>Homo sapiens</td>\n",
       "    </tr>\n",
       "    <tr>\n",
       "      <th>16</th>\n",
       "      <td>O14543</td>\n",
       "      <td>Lck</td>\n",
       "      <td>Homo sapiens</td>\n",
       "    </tr>\n",
       "    <tr>\n",
       "      <th>18</th>\n",
       "      <td>O14746</td>\n",
       "      <td>PKB_group</td>\n",
       "      <td>Homo sapiens</td>\n",
       "    </tr>\n",
       "  </tbody>\n",
       "</table>\n",
       "</div>"
      ],
      "text/plain": [
       "       acc    kinases       species\n",
       "9   O08605       PAK2  Mus musculus\n",
       "10  O08605       PAK2  Mus musculus\n",
       "14  O14543        Lck  Homo sapiens\n",
       "16  O14543        Lck  Homo sapiens\n",
       "18  O14746  PKB_group  Homo sapiens"
      ]
     },
     "execution_count": 6,
     "metadata": {},
     "output_type": "execute_result"
    }
   ],
   "source": [
    "# define a list of selected organisms\n",
    "organisms = ['Mus musculus', 'Homo sapiens']\n",
    "\n",
    "# get indices of rows whose species is in the selected organisms\n",
    "indices = [index for index, rowData in phospho_df.iterrows() if rowData['species'] in organisms]\n",
    "\n",
    "# filter\n",
    "phospho_df_filter = phospho_df.loc[indices, ['acc', 'kinases', 'species']].dropna()\n",
    "phospho_df_filter.head()"
   ]
  },
  {
   "cell_type": "markdown",
   "metadata": {},
   "source": [
    "## Convert UniProt IDs to Gene Symbols"
   ]
  },
  {
   "cell_type": "code",
   "execution_count": 11,
   "metadata": {},
   "outputs": [
    {
     "data": {
      "text/html": [
       "<div>\n",
       "<style>\n",
       "    .dataframe thead tr:only-child th {\n",
       "        text-align: right;\n",
       "    }\n",
       "\n",
       "    .dataframe thead th {\n",
       "        text-align: left;\n",
       "    }\n",
       "\n",
       "    .dataframe tbody tr th {\n",
       "        vertical-align: top;\n",
       "    }\n",
       "</style>\n",
       "<table border=\"1\" class=\"dataframe\">\n",
       "  <thead>\n",
       "    <tr style=\"text-align: right;\">\n",
       "      <th></th>\n",
       "      <th>acc</th>\n",
       "      <th>kinases</th>\n",
       "      <th>species</th>\n",
       "      <th>target_symbol</th>\n",
       "    </tr>\n",
       "  </thead>\n",
       "  <tbody>\n",
       "    <tr>\n",
       "      <th>9</th>\n",
       "      <td>O08605</td>\n",
       "      <td>PAK2</td>\n",
       "      <td>Mus musculus</td>\n",
       "      <td>Mknk1</td>\n",
       "    </tr>\n",
       "    <tr>\n",
       "      <th>10</th>\n",
       "      <td>O08605</td>\n",
       "      <td>PAK2</td>\n",
       "      <td>Mus musculus</td>\n",
       "      <td>Mknk1</td>\n",
       "    </tr>\n",
       "    <tr>\n",
       "      <th>14</th>\n",
       "      <td>O14543</td>\n",
       "      <td>Lck</td>\n",
       "      <td>Homo sapiens</td>\n",
       "      <td>SOCS3</td>\n",
       "    </tr>\n",
       "    <tr>\n",
       "      <th>16</th>\n",
       "      <td>O14543</td>\n",
       "      <td>Lck</td>\n",
       "      <td>Homo sapiens</td>\n",
       "      <td>SOCS3</td>\n",
       "    </tr>\n",
       "    <tr>\n",
       "      <th>18</th>\n",
       "      <td>O14746</td>\n",
       "      <td>PKB_group</td>\n",
       "      <td>Homo sapiens</td>\n",
       "      <td>TERT</td>\n",
       "    </tr>\n",
       "  </tbody>\n",
       "</table>\n",
       "</div>"
      ],
      "text/plain": [
       "       acc    kinases       species target_symbol\n",
       "9   O08605       PAK2  Mus musculus         Mknk1\n",
       "10  O08605       PAK2  Mus musculus         Mknk1\n",
       "14  O14543        Lck  Homo sapiens         SOCS3\n",
       "16  O14543        Lck  Homo sapiens         SOCS3\n",
       "18  O14746  PKB_group  Homo sapiens          TERT"
      ]
     },
     "execution_count": 11,
     "metadata": {},
     "output_type": "execute_result"
    }
   ],
   "source": [
    "# Use uniprot_to_symbol function from Scripts.py to convert\n",
    "phospho_df_filter['target_symbol'] = Scripts.uniprot_to_symbol(phospho_df_filter['acc'].tolist())\n",
    "phospho_df_filter.head()"
   ]
  },
  {
   "cell_type": "markdown",
   "metadata": {},
   "source": [
    "## Create a new column combining kinases and organism"
   ]
  },
  {
   "cell_type": "code",
   "execution_count": 15,
   "metadata": {},
   "outputs": [
    {
     "data": {
      "text/html": [
       "<div>\n",
       "<style>\n",
       "    .dataframe thead tr:only-child th {\n",
       "        text-align: right;\n",
       "    }\n",
       "\n",
       "    .dataframe thead th {\n",
       "        text-align: left;\n",
       "    }\n",
       "\n",
       "    .dataframe tbody tr th {\n",
       "        vertical-align: top;\n",
       "    }\n",
       "</style>\n",
       "<table border=\"1\" class=\"dataframe\">\n",
       "  <thead>\n",
       "    <tr style=\"text-align: right;\">\n",
       "      <th></th>\n",
       "      <th>acc</th>\n",
       "      <th>kinases</th>\n",
       "      <th>species</th>\n",
       "      <th>target_symbol</th>\n",
       "      <th>kinase_organism</th>\n",
       "    </tr>\n",
       "  </thead>\n",
       "  <tbody>\n",
       "    <tr>\n",
       "      <th>9</th>\n",
       "      <td>O08605</td>\n",
       "      <td>PAK2</td>\n",
       "      <td>Mus musculus</td>\n",
       "      <td>Mknk1</td>\n",
       "      <td>PAK2_Mus musculus</td>\n",
       "    </tr>\n",
       "    <tr>\n",
       "      <th>10</th>\n",
       "      <td>O08605</td>\n",
       "      <td>PAK2</td>\n",
       "      <td>Mus musculus</td>\n",
       "      <td>Mknk1</td>\n",
       "      <td>PAK2_Mus musculus</td>\n",
       "    </tr>\n",
       "    <tr>\n",
       "      <th>14</th>\n",
       "      <td>O14543</td>\n",
       "      <td>Lck</td>\n",
       "      <td>Homo sapiens</td>\n",
       "      <td>SOCS3</td>\n",
       "      <td>Lck_Homo sapiens</td>\n",
       "    </tr>\n",
       "    <tr>\n",
       "      <th>16</th>\n",
       "      <td>O14543</td>\n",
       "      <td>Lck</td>\n",
       "      <td>Homo sapiens</td>\n",
       "      <td>SOCS3</td>\n",
       "      <td>Lck_Homo sapiens</td>\n",
       "    </tr>\n",
       "    <tr>\n",
       "      <th>18</th>\n",
       "      <td>O14746</td>\n",
       "      <td>PKB_group</td>\n",
       "      <td>Homo sapiens</td>\n",
       "      <td>TERT</td>\n",
       "      <td>PKB_group_Homo sapiens</td>\n",
       "    </tr>\n",
       "  </tbody>\n",
       "</table>\n",
       "</div>"
      ],
      "text/plain": [
       "       acc    kinases       species target_symbol         kinase_organism\n",
       "9   O08605       PAK2  Mus musculus         Mknk1       PAK2_Mus musculus\n",
       "10  O08605       PAK2  Mus musculus         Mknk1       PAK2_Mus musculus\n",
       "14  O14543        Lck  Homo sapiens         SOCS3        Lck_Homo sapiens\n",
       "16  O14543        Lck  Homo sapiens         SOCS3        Lck_Homo sapiens\n",
       "18  O14746  PKB_group  Homo sapiens          TERT  PKB_group_Homo sapiens"
      ]
     },
     "execution_count": 15,
     "metadata": {},
     "output_type": "execute_result"
    }
   ],
   "source": [
    "# Combine 'kinases' and 'species' into one column 'kinase_organism'\n",
    "phospho_df_filter['kinase_organism'] = ['_'.join([kinase, species]) for kinase, species in phospho_df_filter[['kinases', 'species']].as_matrix()]\n",
    "phospho_df_filter.head()"
   ]
  },
  {
   "cell_type": "markdown",
   "metadata": {},
   "source": [
    "## Perform preliminary data processing \n",
    "\n",
    "Select columns necessary for .gmt format and filter into new dataframe 'df'\n",
    "df = phospho_df[['acc', 'kinases', 'species']]We must drop duplicates and NaNs, as well as select only the columns necessary for the .gmt file format (the protein ids and kinase gene symbols). The species column is also selected for future filtering of data by desired species."
   ]
  },
  {
   "cell_type": "code",
   "execution_count": 20,
   "metadata": {},
   "outputs": [
    {
     "name": "stderr",
     "output_type": "stream",
     "text": [
      "/home/maayanlab/anaconda3/lib/python3.6/site-packages/ipykernel_launcher.py:5: SettingWithCopyWarning: \n",
      "A value is trying to be set on a copy of a slice from a DataFrame\n",
      "\n",
      "See the caveats in the documentation: http://pandas.pydata.org/pandas-docs/stable/indexing.html#indexing-view-versus-copy\n",
      "  \"\"\"\n",
      "/home/maayanlab/anaconda3/lib/python3.6/site-packages/ipykernel_launcher.py:8: SettingWithCopyWarning: \n",
      "A value is trying to be set on a copy of a slice from a DataFrame\n",
      "\n",
      "See the caveats in the documentation: http://pandas.pydata.org/pandas-docs/stable/indexing.html#indexing-view-versus-copy\n",
      "  \n"
     ]
    },
    {
     "data": {
      "text/html": [
       "<div>\n",
       "<style>\n",
       "    .dataframe thead tr:only-child th {\n",
       "        text-align: right;\n",
       "    }\n",
       "\n",
       "    .dataframe thead th {\n",
       "        text-align: left;\n",
       "    }\n",
       "\n",
       "    .dataframe tbody tr th {\n",
       "        vertical-align: top;\n",
       "    }\n",
       "</style>\n",
       "<table border=\"1\" class=\"dataframe\">\n",
       "  <thead>\n",
       "    <tr style=\"text-align: right;\">\n",
       "      <th></th>\n",
       "      <th>target_symbol</th>\n",
       "      <th>kinase_organism</th>\n",
       "    </tr>\n",
       "  </thead>\n",
       "  <tbody>\n",
       "    <tr>\n",
       "      <th>9</th>\n",
       "      <td>Mknk1</td>\n",
       "      <td>PAK2_Mus musculus</td>\n",
       "    </tr>\n",
       "    <tr>\n",
       "      <th>14</th>\n",
       "      <td>SOCS3</td>\n",
       "      <td>Lck_Homo sapiens</td>\n",
       "    </tr>\n",
       "    <tr>\n",
       "      <th>18</th>\n",
       "      <td>TERT</td>\n",
       "      <td>PKB_group_Homo sapiens</td>\n",
       "    </tr>\n",
       "    <tr>\n",
       "      <th>21</th>\n",
       "      <td>TERT</td>\n",
       "      <td>SRC_Homo sapiens</td>\n",
       "    </tr>\n",
       "    <tr>\n",
       "      <th>27</th>\n",
       "      <td>IKBKB</td>\n",
       "      <td>IKK_group_Homo sapiens</td>\n",
       "    </tr>\n",
       "  </tbody>\n",
       "</table>\n",
       "</div>"
      ],
      "text/plain": [
       "   target_symbol         kinase_organism\n",
       "9          Mknk1       PAK2_Mus musculus\n",
       "14         SOCS3        Lck_Homo sapiens\n",
       "18          TERT  PKB_group_Homo sapiens\n",
       "21          TERT        SRC_Homo sapiens\n",
       "27         IKBKB  IKK_group_Homo sapiens"
      ]
     },
     "execution_count": 20,
     "metadata": {},
     "output_type": "execute_result"
    }
   ],
   "source": [
    "#select columns necessary for .gmt format and filter into new dataframe 'df'\n",
    "df = phospho_df_filter[['target_symbol', 'kinase_organism']]\n",
    "\n",
    "#drop duplicate rows in the dataframe\n",
    "df.drop_duplicates(inplace = True)\n",
    "\n",
    "#drop all rows with an 'NaN' value for the kinases\n",
    "df.dropna(axis = 0, inplace = True)\n",
    "\n",
    "#Visualize data\n",
    "df.head()"
   ]
  },
  {
   "cell_type": "markdown",
   "metadata": {},
   "source": [
    "## View altered 'kin' dataframe"
   ]
  },
  {
   "cell_type": "markdown",
   "metadata": {},
   "source": [
    "## Create new function to convert UniProtkb IDs to gene symbols\n",
    "\n",
    "Function 'uniprot_to_gene' will retrieve the gene symbols directly from the API of UniProt and return it"
   ]
  },
  {
   "cell_type": "code",
   "execution_count": null,
   "metadata": {
    "collapsed": true,
    "scrolled": false
   },
   "outputs": [],
   "source": [
    "\n",
    "#Create dictionary 'PhosphoELM' with kinases as keys\n",
    "#PhosphoELM = dict([(key, []) for key in kinases.unique()])\n",
    "\n",
    "#Define url to obtain gene symbol from API\n",
    "ENRICHR_URL = 'https://www.ebi.ac.uk/proteins/api/proteins/%s'\n",
    "\n",
    "#Define function uniprot_to_gene which converts uniprot_id into the gene symbol\n",
    "def uniprot_to_gene(protein_id):\n",
    "    response = requests.get(ENRICHR_URL % protein_id)\n",
    "    if not response.ok:\n",
    "        name = np.NaN\n",
    "    else:\n",
    "        data = xmltodict.parse(response.text)\n",
    "        entry = data['entry']\n",
    "        # check if entry contains 'gene'\n",
    "        if 'gene' in entry.keys():\n",
    "            data = data['entry']['gene']\n",
    "            #Make sure entry is 'OrderedDict'\n",
    "            if type(data) == list:\n",
    "                name = str(protein_id)\n",
    "            else:\n",
    "                names = data['name']\n",
    "                #Make sure entry is 'OrderedDict'\n",
    "                if type(names) == list:\n",
    "                    if len(names) > 2:\n",
    "                        name = list(names[0].values())[2]\n",
    "                    else:\n",
    "                        name = list(names[0].values())[1]\n",
    "                else:\n",
    "                    name = list(names.values())[1]\n",
    "        else:\n",
    "            name = data['entry']['name']\n",
    "    #After processing through file, return protein's gene symbol\n",
    "    return name\n",
    "    "
   ]
  },
  {
   "cell_type": "code",
   "execution_count": null,
   "metadata": {
    "collapsed": true
   },
   "outputs": [],
   "source": [
    "# Create a set of UniProt IDs\n",
    "uniprot_ids = kin['acc'].unique()\n",
    "\n",
    "# Create dictionary to match UniProt IDs to gene symbols\n",
    "uniprot_to_gene_dict = {x: uniprot_to_gene(x) for x in uniprot_ids[:100]}\n",
    "uniprot_to_gene_dict"
   ]
  },
  {
   "cell_type": "markdown",
   "metadata": {},
   "source": [
    "## Convert protein UniProtkb IDs into necessary gene symbols"
   ]
  },
  {
   "cell_type": "code",
   "execution_count": null,
   "metadata": {
    "collapsed": true
   },
   "outputs": [],
   "source": [
    "\n",
    "acc = pd.Series(kin.acc[:5])\n",
    "    \n",
    "for index, row in acc.iteritems():\n",
    "    \n",
    "    protein_id = '%s' %row\n",
    "    geneS = uniprot_to_gene(protein_id)\n",
    "    kin.acc[index] = geneS\n",
    "    print(kin.acc[index])"
   ]
  },
  {
   "cell_type": "code",
   "execution_count": null,
   "metadata": {
    "collapsed": true
   },
   "outputs": [],
   "source": [
    "#Look at 'kin' after altering accession numbers\n",
    "kin.head()"
   ]
  },
  {
   "cell_type": "code",
   "execution_count": null,
   "metadata": {
    "collapsed": true
   },
   "outputs": [],
   "source": [
    "#Group kinases in dataframe 'kin'\n",
    "#Aggregate data in 'kin' according to kinase groups\n",
    "kin = kin.groupby('kinases').agg(lambda x: tuple(x))\n",
    "\n",
    "#Create a new column 'PhosphoELM' as description of data\n",
    "kin.insert(0, 'Description', 'PhosphoELM')"
   ]
  },
  {
   "cell_type": "code",
   "execution_count": null,
   "metadata": {
    "collapsed": true
   },
   "outputs": [],
   "source": [
    "# fix the dataframe in order to have three columns:\n",
    "# kinases, description, acc_merged (acc, but all elements are joined by a \\t symbol)\n",
    "# with a reset index\n",
    "\n",
    "#create column 'acc_merged' in which all 'acc' elements are joined by a \\t symbol\n",
    "kin['acc_merged'] = ['\\t'.join(x) for x in kin['acc']]\n",
    "\n",
    "#drop the now-unneccesary column 'acc'\n",
    "kin.drop('acc', axis=1, inplace = True)\n",
    "\n",
    "#Create dictionary 'PhosphoELM' with index numbers as keys\n",
    "PhosphoELM_num = dict([(key, []) for key in kin.index])\n",
    "\n",
    "# loop through rows with iterrows()\n",
    "for index, rowData in kin.iterrows():\n",
    "    line = ['\\t'.join(rowData)]\n",
    "    PhosphoELM_num[index] = line"
   ]
  },
  {
   "cell_type": "code",
   "execution_count": null,
   "metadata": {
    "collapsed": true
   },
   "outputs": [],
   "source": [
    "#Transfer tsv info into a new txt file\n",
    "with open('PhosphoELM.txt', 'w') as openfile:\n",
    "    for index in PhosphoELM_num:\n",
    "        openfile.write(str(PhosphoELM_num[index]) + '\\n')"
   ]
  },
  {
   "cell_type": "code",
   "execution_count": null,
   "metadata": {
    "collapsed": true
   },
   "outputs": [],
   "source": [
    "##Display figures regarding the data\n",
    "\n",
    "#look into plotly"
   ]
  },
  {
   "cell_type": "markdown",
   "metadata": {},
   "source": [
    "# This is a title\n",
    "## This is a subtitle\n",
    "\n",
    "hello you can write in **bold**, *italic*\n",
    "\n",
    "lists:\n",
    "- asd\n",
    "- asd\n",
    "- asd\n",
    "\n",
    "\n",
    "numbered lists:\n",
    "1. asd\n",
    "2. 234\n",
    "3. 46"
   ]
  },
  {
   "cell_type": "code",
   "execution_count": null,
   "metadata": {
    "collapsed": true
   },
   "outputs": [],
   "source": [
    "#Corner case as TEST\n",
    "protein_id = 'O43524'\n",
    "geneS = uniprot_to_gene(protein_id)\n",
    "print(geneS)"
   ]
  },
  {
   "cell_type": "code",
   "execution_count": 41,
   "metadata": {},
   "outputs": [
    {
     "ename": "AttributeError",
     "evalue": "module 'urllib' has no attribute 'urlopen'",
     "output_type": "error",
     "traceback": [
      "\u001b[0;31m---------------------------------------------------------------------------\u001b[0m",
      "\u001b[0;31mAttributeError\u001b[0m                            Traceback (most recent call last)",
      "\u001b[0;32m<ipython-input-41-5e89e81ac019>\u001b[0m in \u001b[0;36m<module>\u001b[0;34m()\u001b[0m\n\u001b[1;32m      5\u001b[0m \u001b[0mprotein_id\u001b[0m \u001b[0;34m=\u001b[0m \u001b[0;34m'O43524'\u001b[0m\u001b[0;34m\u001b[0m\u001b[0m\n\u001b[1;32m      6\u001b[0m \u001b[0;34m\u001b[0m\u001b[0m\n\u001b[0;32m----> 7\u001b[0;31m \u001b[0mtree\u001b[0m \u001b[0;34m=\u001b[0m \u001b[0mET\u001b[0m\u001b[0;34m.\u001b[0m\u001b[0mElementTree\u001b[0m\u001b[0;34m(\u001b[0m\u001b[0mfile\u001b[0m\u001b[0;34m=\u001b[0m\u001b[0murllib\u001b[0m\u001b[0;34m.\u001b[0m\u001b[0murlopen\u001b[0m\u001b[0;34m(\u001b[0m\u001b[0;34m'https://www.ebi.ac.uk/proteins/api/proteins/%s'\u001b[0m \u001b[0;34m%\u001b[0m\u001b[0mprotein_id\u001b[0m\u001b[0;34m)\u001b[0m\u001b[0;34m)\u001b[0m\u001b[0;34m\u001b[0m\u001b[0m\n\u001b[0m",
      "\u001b[0;31mAttributeError\u001b[0m: module 'urllib' has no attribute 'urlopen'"
     ]
    }
   ],
   "source": [
    "from xml.etree import ElementTree as ET\n",
    "import urllib\n",
    "\n",
    "ENRICHR_URL = 'https://www.ebi.ac.uk/proteins/api/proteins/%s'\n",
    "protein_id = 'O43524'\n",
    "\n",
    "tree = ET.ElementTree(file=urllib.urlopen('https://www.ebi.ac.uk/proteins/api/proteins/%s' %protein_id))\n"
   ]
  },
  {
   "cell_type": "code",
   "execution_count": null,
   "metadata": {
    "collapsed": true
   },
   "outputs": [],
   "source": []
  }
 ],
 "metadata": {
  "kernelspec": {
   "display_name": "Python 3",
   "language": "python",
   "name": "python3"
  },
  "language_info": {
   "codemirror_mode": {
    "name": "ipython",
    "version": 3
   },
   "file_extension": ".py",
   "mimetype": "text/x-python",
   "name": "python",
   "nbconvert_exporter": "python",
   "pygments_lexer": "ipython3",
   "version": "3.6.1"
  }
 },
 "nbformat": 4,
 "nbformat_minor": 2
}
