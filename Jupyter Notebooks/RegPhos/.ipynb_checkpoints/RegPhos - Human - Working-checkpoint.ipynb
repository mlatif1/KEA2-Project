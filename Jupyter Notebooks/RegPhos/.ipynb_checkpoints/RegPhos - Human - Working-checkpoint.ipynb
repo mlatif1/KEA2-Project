{
 "cells": [
  {
   "cell_type": "markdown",
   "metadata": {},
   "source": [
    "# RegPhos (Human) Data Formatting\n",
    "This file takes data regarding human kinase-protein interactions from the RegPhos database and converts the data into the .gmt format. The data was retrieved from the RegPhos database on Wed, Jun 14 2017 15:24:15 as a .txt and was transferred to the excel format used on Wed, Jun 14 2017 15:39:54. This data will be added to enhance the KEA2 database and will be suitably formatted for use by ENRICHR and X2K."
   ]
  },
  {
   "cell_type": "markdown",
   "metadata": {},
   "source": [
    "## Import packages necessary for following program"
   ]
  },
  {
   "cell_type": "code",
   "execution_count": 88,
   "metadata": {
    "collapsed": true
   },
   "outputs": [],
   "source": [
    "%run /home/maayanlab/Projects/Scripts/init.ipy\n",
    "%run /home/maayanlab/Projects/Scripts/Scripts.py"
   ]
  },
  {
   "cell_type": "markdown",
   "metadata": {},
   "source": [
    "## Create a dataframe from a file containing Human RegPhos data"
   ]
  },
  {
   "cell_type": "code",
   "execution_count": 89,
   "metadata": {},
   "outputs": [
    {
     "data": {
      "text/html": [
       "<div>\n",
       "<style>\n",
       "    .dataframe thead tr:only-child th {\n",
       "        text-align: right;\n",
       "    }\n",
       "\n",
       "    .dataframe thead th {\n",
       "        text-align: left;\n",
       "    }\n",
       "\n",
       "    .dataframe tbody tr th {\n",
       "        vertical-align: top;\n",
       "    }\n",
       "</style>\n",
       "<table border=\"1\" class=\"dataframe\">\n",
       "  <thead>\n",
       "    <tr style=\"text-align: right;\">\n",
       "      <th></th>\n",
       "      <th>ID</th>\n",
       "      <th>AC</th>\n",
       "      <th>position</th>\n",
       "      <th>decription</th>\n",
       "      <th>catalytic_kinase</th>\n",
       "      <th>reference</th>\n",
       "      <th>resource</th>\n",
       "      <th>code</th>\n",
       "    </tr>\n",
       "  </thead>\n",
       "  <tbody>\n",
       "    <tr>\n",
       "      <th>0</th>\n",
       "      <td>IKKB_HUMAN</td>\n",
       "      <td>O14920</td>\n",
       "      <td>689</td>\n",
       "      <td>Phosphoserine</td>\n",
       "      <td>IKKb</td>\n",
       "      <td>10195894</td>\n",
       "      <td>HPRD 9.0</td>\n",
       "      <td>S</td>\n",
       "    </tr>\n",
       "    <tr>\n",
       "      <th>1</th>\n",
       "      <td>IKKB_HUMAN</td>\n",
       "      <td>O14920</td>\n",
       "      <td>689</td>\n",
       "      <td>Phosphoserine</td>\n",
       "      <td>IKK_group</td>\n",
       "      <td>10195894</td>\n",
       "      <td>PhosphoELM.10011</td>\n",
       "      <td>S</td>\n",
       "    </tr>\n",
       "    <tr>\n",
       "      <th>2</th>\n",
       "      <td>IKKB_HUMAN</td>\n",
       "      <td>O14920</td>\n",
       "      <td>692</td>\n",
       "      <td>Phosphoserine</td>\n",
       "      <td>IKKb</td>\n",
       "      <td>10195894</td>\n",
       "      <td>HPRD 9.0</td>\n",
       "      <td>S</td>\n",
       "    </tr>\n",
       "    <tr>\n",
       "      <th>3</th>\n",
       "      <td>IKKB_HUMAN</td>\n",
       "      <td>O14920</td>\n",
       "      <td>692</td>\n",
       "      <td>Phosphoserine</td>\n",
       "      <td>IKK_group</td>\n",
       "      <td>10195894</td>\n",
       "      <td>PhosphoELM.10011</td>\n",
       "      <td>S</td>\n",
       "    </tr>\n",
       "    <tr>\n",
       "      <th>4</th>\n",
       "      <td>IKKB_HUMAN</td>\n",
       "      <td>O14920</td>\n",
       "      <td>695</td>\n",
       "      <td>Phosphoserine</td>\n",
       "      <td>IKKb</td>\n",
       "      <td>10195894</td>\n",
       "      <td>HPRD 9.0</td>\n",
       "      <td>S</td>\n",
       "    </tr>\n",
       "  </tbody>\n",
       "</table>\n",
       "</div>"
      ],
      "text/plain": [
       "           ID      AC  position     decription catalytic_kinase reference  \\\n",
       "0  IKKB_HUMAN  O14920       689  Phosphoserine             IKKb  10195894   \n",
       "1  IKKB_HUMAN  O14920       689  Phosphoserine        IKK_group  10195894   \n",
       "2  IKKB_HUMAN  O14920       692  Phosphoserine             IKKb  10195894   \n",
       "3  IKKB_HUMAN  O14920       692  Phosphoserine        IKK_group  10195894   \n",
       "4  IKKB_HUMAN  O14920       695  Phosphoserine             IKKb  10195894   \n",
       "\n",
       "           resource code  \n",
       "0          HPRD 9.0    S  \n",
       "1  PhosphoELM.10011    S  \n",
       "2          HPRD 9.0    S  \n",
       "3  PhosphoELM.10011    S  \n",
       "4          HPRD 9.0    S  "
      ]
     },
     "execution_count": 89,
     "metadata": {},
     "output_type": "execute_result"
    }
   ],
   "source": [
    "#Define column names as headers from original .txt file\n",
    "colnames = ['ID', 'AC', 'position', 'decription', \n",
    "            'catalytic_kinase','reference', 'resource', 'code' ]\n",
    "\n",
    "#read data from excel file into dataframe 'regphos_df'\n",
    "regphos_df = pd.read_excel('~/Desktop/RegPhos_Phos_human.xlsm', \n",
    "                           header = None, names = colnames)\n",
    "\n",
    "#drop all rows with an 'NaN' value for the kinases\n",
    "regphos_df.dropna(axis = 0, inplace = True)\n",
    "\n",
    "#View dataframe\n",
    "regphos_df.head()"
   ]
  },
  {
   "cell_type": "markdown",
   "metadata": {},
   "source": [
    "## Convert UniProt IDs to Gene Symbols"
   ]
  },
  {
   "cell_type": "code",
   "execution_count": 90,
   "metadata": {},
   "outputs": [
    {
     "data": {
      "text/html": [
       "<div>\n",
       "<style>\n",
       "    .dataframe thead tr:only-child th {\n",
       "        text-align: right;\n",
       "    }\n",
       "\n",
       "    .dataframe thead th {\n",
       "        text-align: left;\n",
       "    }\n",
       "\n",
       "    .dataframe tbody tr th {\n",
       "        vertical-align: top;\n",
       "    }\n",
       "</style>\n",
       "<table border=\"1\" class=\"dataframe\">\n",
       "  <thead>\n",
       "    <tr style=\"text-align: right;\">\n",
       "      <th></th>\n",
       "      <th>ID</th>\n",
       "      <th>AC</th>\n",
       "      <th>position</th>\n",
       "      <th>decription</th>\n",
       "      <th>catalytic_kinase</th>\n",
       "      <th>reference</th>\n",
       "      <th>resource</th>\n",
       "      <th>code</th>\n",
       "      <th>target_symbol</th>\n",
       "    </tr>\n",
       "  </thead>\n",
       "  <tbody>\n",
       "    <tr>\n",
       "      <th>0</th>\n",
       "      <td>IKKB_HUMAN</td>\n",
       "      <td>O14920</td>\n",
       "      <td>689</td>\n",
       "      <td>Phosphoserine</td>\n",
       "      <td>IKKb</td>\n",
       "      <td>10195894</td>\n",
       "      <td>HPRD 9.0</td>\n",
       "      <td>S</td>\n",
       "      <td>IKBKB</td>\n",
       "    </tr>\n",
       "    <tr>\n",
       "      <th>1</th>\n",
       "      <td>IKKB_HUMAN</td>\n",
       "      <td>O14920</td>\n",
       "      <td>689</td>\n",
       "      <td>Phosphoserine</td>\n",
       "      <td>IKK_group</td>\n",
       "      <td>10195894</td>\n",
       "      <td>PhosphoELM.10011</td>\n",
       "      <td>S</td>\n",
       "      <td>IKBKB</td>\n",
       "    </tr>\n",
       "    <tr>\n",
       "      <th>2</th>\n",
       "      <td>IKKB_HUMAN</td>\n",
       "      <td>O14920</td>\n",
       "      <td>692</td>\n",
       "      <td>Phosphoserine</td>\n",
       "      <td>IKKb</td>\n",
       "      <td>10195894</td>\n",
       "      <td>HPRD 9.0</td>\n",
       "      <td>S</td>\n",
       "      <td>IKBKB</td>\n",
       "    </tr>\n",
       "    <tr>\n",
       "      <th>3</th>\n",
       "      <td>IKKB_HUMAN</td>\n",
       "      <td>O14920</td>\n",
       "      <td>692</td>\n",
       "      <td>Phosphoserine</td>\n",
       "      <td>IKK_group</td>\n",
       "      <td>10195894</td>\n",
       "      <td>PhosphoELM.10011</td>\n",
       "      <td>S</td>\n",
       "      <td>IKBKB</td>\n",
       "    </tr>\n",
       "    <tr>\n",
       "      <th>4</th>\n",
       "      <td>IKKB_HUMAN</td>\n",
       "      <td>O14920</td>\n",
       "      <td>695</td>\n",
       "      <td>Phosphoserine</td>\n",
       "      <td>IKKb</td>\n",
       "      <td>10195894</td>\n",
       "      <td>HPRD 9.0</td>\n",
       "      <td>S</td>\n",
       "      <td>IKBKB</td>\n",
       "    </tr>\n",
       "  </tbody>\n",
       "</table>\n",
       "</div>"
      ],
      "text/plain": [
       "           ID      AC  position     decription catalytic_kinase reference  \\\n",
       "0  IKKB_HUMAN  O14920       689  Phosphoserine             IKKb  10195894   \n",
       "1  IKKB_HUMAN  O14920       689  Phosphoserine        IKK_group  10195894   \n",
       "2  IKKB_HUMAN  O14920       692  Phosphoserine             IKKb  10195894   \n",
       "3  IKKB_HUMAN  O14920       692  Phosphoserine        IKK_group  10195894   \n",
       "4  IKKB_HUMAN  O14920       695  Phosphoserine             IKKb  10195894   \n",
       "\n",
       "           resource code target_symbol  \n",
       "0          HPRD 9.0    S         IKBKB  \n",
       "1  PhosphoELM.10011    S         IKBKB  \n",
       "2          HPRD 9.0    S         IKBKB  \n",
       "3  PhosphoELM.10011    S         IKBKB  \n",
       "4          HPRD 9.0    S         IKBKB  "
      ]
     },
     "execution_count": 90,
     "metadata": {},
     "output_type": "execute_result"
    }
   ],
   "source": [
    "#Use uniprot_to_symbol function from Scripts.py to convert\n",
    "regphos_df['target_symbol'] = Scripts.uniprot_to_symbol(regphos_df['AC'].tolist())\n",
    "\n",
    "#View dataframe\n",
    "regphos_df.head()"
   ]
  },
  {
   "cell_type": "markdown",
   "metadata": {},
   "source": [
    "## Create a new column combining kinases and organism"
   ]
  },
  {
   "cell_type": "code",
   "execution_count": 91,
   "metadata": {},
   "outputs": [
    {
     "data": {
      "text/html": [
       "<div>\n",
       "<style>\n",
       "    .dataframe thead tr:only-child th {\n",
       "        text-align: right;\n",
       "    }\n",
       "\n",
       "    .dataframe thead th {\n",
       "        text-align: left;\n",
       "    }\n",
       "\n",
       "    .dataframe tbody tr th {\n",
       "        vertical-align: top;\n",
       "    }\n",
       "</style>\n",
       "<table border=\"1\" class=\"dataframe\">\n",
       "  <thead>\n",
       "    <tr style=\"text-align: right;\">\n",
       "      <th></th>\n",
       "      <th>ID</th>\n",
       "      <th>AC</th>\n",
       "      <th>position</th>\n",
       "      <th>decription</th>\n",
       "      <th>catalytic_kinase</th>\n",
       "      <th>reference</th>\n",
       "      <th>resource</th>\n",
       "      <th>code</th>\n",
       "      <th>target_symbol</th>\n",
       "      <th>kinase_organism</th>\n",
       "    </tr>\n",
       "  </thead>\n",
       "  <tbody>\n",
       "    <tr>\n",
       "      <th>0</th>\n",
       "      <td>IKKB_HUMAN</td>\n",
       "      <td>O14920</td>\n",
       "      <td>689</td>\n",
       "      <td>Phosphoserine</td>\n",
       "      <td>IKKb</td>\n",
       "      <td>10195894</td>\n",
       "      <td>HPRD 9.0</td>\n",
       "      <td>S</td>\n",
       "      <td>IKBKB</td>\n",
       "      <td>IKKb_Homo sapiens</td>\n",
       "    </tr>\n",
       "    <tr>\n",
       "      <th>1</th>\n",
       "      <td>IKKB_HUMAN</td>\n",
       "      <td>O14920</td>\n",
       "      <td>689</td>\n",
       "      <td>Phosphoserine</td>\n",
       "      <td>IKK_group</td>\n",
       "      <td>10195894</td>\n",
       "      <td>PhosphoELM.10011</td>\n",
       "      <td>S</td>\n",
       "      <td>IKBKB</td>\n",
       "      <td>IKK_group_Homo sapiens</td>\n",
       "    </tr>\n",
       "    <tr>\n",
       "      <th>2</th>\n",
       "      <td>IKKB_HUMAN</td>\n",
       "      <td>O14920</td>\n",
       "      <td>692</td>\n",
       "      <td>Phosphoserine</td>\n",
       "      <td>IKKb</td>\n",
       "      <td>10195894</td>\n",
       "      <td>HPRD 9.0</td>\n",
       "      <td>S</td>\n",
       "      <td>IKBKB</td>\n",
       "      <td>IKKb_Homo sapiens</td>\n",
       "    </tr>\n",
       "    <tr>\n",
       "      <th>3</th>\n",
       "      <td>IKKB_HUMAN</td>\n",
       "      <td>O14920</td>\n",
       "      <td>692</td>\n",
       "      <td>Phosphoserine</td>\n",
       "      <td>IKK_group</td>\n",
       "      <td>10195894</td>\n",
       "      <td>PhosphoELM.10011</td>\n",
       "      <td>S</td>\n",
       "      <td>IKBKB</td>\n",
       "      <td>IKK_group_Homo sapiens</td>\n",
       "    </tr>\n",
       "    <tr>\n",
       "      <th>4</th>\n",
       "      <td>IKKB_HUMAN</td>\n",
       "      <td>O14920</td>\n",
       "      <td>695</td>\n",
       "      <td>Phosphoserine</td>\n",
       "      <td>IKKb</td>\n",
       "      <td>10195894</td>\n",
       "      <td>HPRD 9.0</td>\n",
       "      <td>S</td>\n",
       "      <td>IKBKB</td>\n",
       "      <td>IKKb_Homo sapiens</td>\n",
       "    </tr>\n",
       "  </tbody>\n",
       "</table>\n",
       "</div>"
      ],
      "text/plain": [
       "           ID      AC  position     decription catalytic_kinase reference  \\\n",
       "0  IKKB_HUMAN  O14920       689  Phosphoserine             IKKb  10195894   \n",
       "1  IKKB_HUMAN  O14920       689  Phosphoserine        IKK_group  10195894   \n",
       "2  IKKB_HUMAN  O14920       692  Phosphoserine             IKKb  10195894   \n",
       "3  IKKB_HUMAN  O14920       692  Phosphoserine        IKK_group  10195894   \n",
       "4  IKKB_HUMAN  O14920       695  Phosphoserine             IKKb  10195894   \n",
       "\n",
       "           resource code target_symbol         kinase_organism  \n",
       "0          HPRD 9.0    S         IKBKB       IKKb_Homo sapiens  \n",
       "1  PhosphoELM.10011    S         IKBKB  IKK_group_Homo sapiens  \n",
       "2          HPRD 9.0    S         IKBKB       IKKb_Homo sapiens  \n",
       "3  PhosphoELM.10011    S         IKBKB  IKK_group_Homo sapiens  \n",
       "4          HPRD 9.0    S         IKBKB       IKKb_Homo sapiens  "
      ]
     },
     "execution_count": 91,
     "metadata": {},
     "output_type": "execute_result"
    }
   ],
   "source": [
    "# Combine 'kinases' and 'species' into one column 'kinase_organism'\n",
    "regphos_df['kinase_organism'] = ['_'.join([str(kinase), 'Homo sapiens']) for kinase\n",
    "                                in regphos_df.catalytic_kinase]\n",
    "\n",
    "#View dataframe\n",
    "regphos_df.head()"
   ]
  },
  {
   "cell_type": "markdown",
   "metadata": {},
   "source": [
    "## Perform preliminary data processing\n",
    "Select columns necessary for .gmt format and filter into new dataframe 'df' df = phospho_df[['acc', 'kinases', 'species']]We must drop duplicates and NaNs, as well as select only the columns necessary for the .gmt file format (the protein ids and kinase gene symbols). "
   ]
  },
  {
   "cell_type": "code",
   "execution_count": 92,
   "metadata": {},
   "outputs": [
    {
     "name": "stderr",
     "output_type": "stream",
     "text": [
      "/home/maayanlab/anaconda3/lib/python3.6/site-packages/ipykernel_launcher.py:5: SettingWithCopyWarning: \n",
      "A value is trying to be set on a copy of a slice from a DataFrame\n",
      "\n",
      "See the caveats in the documentation: http://pandas.pydata.org/pandas-docs/stable/indexing.html#indexing-view-versus-copy\n",
      "  \"\"\"\n",
      "/home/maayanlab/anaconda3/lib/python3.6/site-packages/ipykernel_launcher.py:8: SettingWithCopyWarning: \n",
      "A value is trying to be set on a copy of a slice from a DataFrame\n",
      "\n",
      "See the caveats in the documentation: http://pandas.pydata.org/pandas-docs/stable/indexing.html#indexing-view-versus-copy\n",
      "  \n"
     ]
    },
    {
     "data": {
      "text/html": [
       "<div>\n",
       "<style>\n",
       "    .dataframe thead tr:only-child th {\n",
       "        text-align: right;\n",
       "    }\n",
       "\n",
       "    .dataframe thead th {\n",
       "        text-align: left;\n",
       "    }\n",
       "\n",
       "    .dataframe tbody tr th {\n",
       "        vertical-align: top;\n",
       "    }\n",
       "</style>\n",
       "<table border=\"1\" class=\"dataframe\">\n",
       "  <thead>\n",
       "    <tr style=\"text-align: right;\">\n",
       "      <th></th>\n",
       "      <th>target_symbol</th>\n",
       "      <th>kinase_organism</th>\n",
       "    </tr>\n",
       "  </thead>\n",
       "  <tbody>\n",
       "    <tr>\n",
       "      <th>0</th>\n",
       "      <td>IKBKB</td>\n",
       "      <td>IKKb_Homo sapiens</td>\n",
       "    </tr>\n",
       "    <tr>\n",
       "      <th>1</th>\n",
       "      <td>IKBKB</td>\n",
       "      <td>IKK_group_Homo sapiens</td>\n",
       "    </tr>\n",
       "    <tr>\n",
       "      <th>17</th>\n",
       "      <td>CASK</td>\n",
       "      <td>autocatalysis_Homo sapiens</td>\n",
       "    </tr>\n",
       "    <tr>\n",
       "      <th>19</th>\n",
       "      <td>PLD2</td>\n",
       "      <td>EGFR_Homo sapiens</td>\n",
       "    </tr>\n",
       "    <tr>\n",
       "      <th>20</th>\n",
       "      <td>PLD2</td>\n",
       "      <td>PKCa_Homo sapiens</td>\n",
       "    </tr>\n",
       "  </tbody>\n",
       "</table>\n",
       "</div>"
      ],
      "text/plain": [
       "   target_symbol             kinase_organism\n",
       "0          IKBKB           IKKb_Homo sapiens\n",
       "1          IKBKB      IKK_group_Homo sapiens\n",
       "17          CASK  autocatalysis_Homo sapiens\n",
       "19          PLD2           EGFR_Homo sapiens\n",
       "20          PLD2           PKCa_Homo sapiens"
      ]
     },
     "execution_count": 92,
     "metadata": {},
     "output_type": "execute_result"
    }
   ],
   "source": [
    "#select columns necessary for .gmt format and filter into new dataframe 'df'\n",
    "df = regphos_df[['target_symbol', 'kinase_organism']]\n",
    "\n",
    "#drop duplicate rows in the dataframe\n",
    "df.drop_duplicates(inplace = True)\n",
    "\n",
    "#drop all rows with an 'NaN' value for the kinases\n",
    "df.dropna(axis = 0, inplace = True)\n",
    "\n",
    "#Visualize data\n",
    "df.head()"
   ]
  },
  {
   "cell_type": "markdown",
   "metadata": {},
   "source": [
    "## Set Index to 'Kinase_Organism' and Aggregate Kinase Targets"
   ]
  },
  {
   "cell_type": "code",
   "execution_count": 93,
   "metadata": {},
   "outputs": [
    {
     "data": {
      "text/html": [
       "<div>\n",
       "<style>\n",
       "    .dataframe thead tr:only-child th {\n",
       "        text-align: right;\n",
       "    }\n",
       "\n",
       "    .dataframe thead th {\n",
       "        text-align: left;\n",
       "    }\n",
       "\n",
       "    .dataframe tbody tr th {\n",
       "        vertical-align: top;\n",
       "    }\n",
       "</style>\n",
       "<table border=\"1\" class=\"dataframe\">\n",
       "  <thead>\n",
       "    <tr style=\"text-align: right;\">\n",
       "      <th></th>\n",
       "      <th>Description</th>\n",
       "      <th>target_symbol</th>\n",
       "    </tr>\n",
       "    <tr>\n",
       "      <th>kinase_organism</th>\n",
       "      <th></th>\n",
       "      <th></th>\n",
       "    </tr>\n",
       "  </thead>\n",
       "  <tbody>\n",
       "    <tr>\n",
       "      <th>AAK1_Homo sapiens</th>\n",
       "      <td>RegPhos</td>\n",
       "      <td>(NUMB, AP2M1, AP1M1)</td>\n",
       "    </tr>\n",
       "    <tr>\n",
       "      <th>ABL1(Abl)_Homo sapiens</th>\n",
       "      <td>RegPhos</td>\n",
       "      <td>(TP73, PSTPIP1, ABL1, CAT, ANXA1)</td>\n",
       "    </tr>\n",
       "    <tr>\n",
       "      <th>ABL2(ARG)_Homo sapiens</th>\n",
       "      <td>RegPhos</td>\n",
       "      <td>(SIVA1, CAT)</td>\n",
       "    </tr>\n",
       "    <tr>\n",
       "      <th>ABL_Homo sapiens</th>\n",
       "      <td>RegPhos</td>\n",
       "      <td>(PLSCR1, CDKN1B, ROBO1)</td>\n",
       "    </tr>\n",
       "    <tr>\n",
       "      <th>AKT1_Homo sapiens</th>\n",
       "      <td>RegPhos</td>\n",
       "      <td>(CHUK, FOXO3, NUAK1, TBC1D4, RAF1, ITGB3, CREB...</td>\n",
       "    </tr>\n",
       "  </tbody>\n",
       "</table>\n",
       "</div>"
      ],
      "text/plain": [
       "                       Description  \\\n",
       "kinase_organism                      \n",
       "AAK1_Homo sapiens          RegPhos   \n",
       "ABL1(Abl)_Homo sapiens     RegPhos   \n",
       "ABL2(ARG)_Homo sapiens     RegPhos   \n",
       "ABL_Homo sapiens           RegPhos   \n",
       "AKT1_Homo sapiens          RegPhos   \n",
       "\n",
       "                                                            target_symbol  \n",
       "kinase_organism                                                            \n",
       "AAK1_Homo sapiens                                    (NUMB, AP2M1, AP1M1)  \n",
       "ABL1(Abl)_Homo sapiens                  (TP73, PSTPIP1, ABL1, CAT, ANXA1)  \n",
       "ABL2(ARG)_Homo sapiens                                       (SIVA1, CAT)  \n",
       "ABL_Homo sapiens                                  (PLSCR1, CDKN1B, ROBO1)  \n",
       "AKT1_Homo sapiens       (CHUK, FOXO3, NUAK1, TBC1D4, RAF1, ITGB3, CREB...  "
      ]
     },
     "execution_count": 93,
     "metadata": {},
     "output_type": "execute_result"
    }
   ],
   "source": [
    "df.set_index('kinase_organism')\n",
    "\n",
    "#Group kinases in dataframe 'kin'\n",
    "#Aggregate data in 'kin' according to kinase groups\n",
    "kin = df.groupby('kinase_organism').agg(lambda x: tuple(x))\n",
    "\n",
    "#Create a new column with 'RegPhos' as description of data\n",
    "kin.insert(0, 'Description', 'RegPhos')\n",
    "\n",
    "#Visualize Data\n",
    "kin.head()"
   ]
  },
  {
   "cell_type": "markdown",
   "metadata": {},
   "source": [
    "# Exploratory Data Analysis"
   ]
  },
  {
   "cell_type": "markdown",
   "metadata": {},
   "source": [
    "## Calculate Number of Protein Targets for each kinase\n",
    "Create a new column with the number of substrates related to each kinase, and sort the dataframe by this column"
   ]
  },
  {
   "cell_type": "code",
   "execution_count": 94,
   "metadata": {},
   "outputs": [
    {
     "data": {
      "text/html": [
       "<div>\n",
       "<style>\n",
       "    .dataframe thead tr:only-child th {\n",
       "        text-align: right;\n",
       "    }\n",
       "\n",
       "    .dataframe thead th {\n",
       "        text-align: left;\n",
       "    }\n",
       "\n",
       "    .dataframe tbody tr th {\n",
       "        vertical-align: top;\n",
       "    }\n",
       "</style>\n",
       "<table border=\"1\" class=\"dataframe\">\n",
       "  <thead>\n",
       "    <tr style=\"text-align: right;\">\n",
       "      <th></th>\n",
       "      <th>Description</th>\n",
       "      <th>target_symbol</th>\n",
       "      <th>kinase_targets_num</th>\n",
       "    </tr>\n",
       "    <tr>\n",
       "      <th>kinase_organism</th>\n",
       "      <th></th>\n",
       "      <th></th>\n",
       "      <th></th>\n",
       "    </tr>\n",
       "  </thead>\n",
       "  <tbody>\n",
       "    <tr>\n",
       "      <th>PKA_group_Homo sapiens</th>\n",
       "      <td>RegPhos</td>\n",
       "      <td>(AURKA, PJA2, KCNQ2, RGS14, RGS10, ENSA, KCNJ1...</td>\n",
       "      <td>160</td>\n",
       "    </tr>\n",
       "    <tr>\n",
       "      <th>autocatalysis_Homo sapiens</th>\n",
       "      <td>RegPhos</td>\n",
       "      <td>(CASK, PDPK1, DAPK3, MAP3K7, RIPK2, JAK2, RPS6...</td>\n",
       "      <td>116</td>\n",
       "    </tr>\n",
       "    <tr>\n",
       "      <th>SRC_Homo sapiens</th>\n",
       "      <td>RegPhos</td>\n",
       "      <td>(PLSCR1, NPHP1, TP73, INPPL1, RGS16, PDPK1, SP...</td>\n",
       "      <td>105</td>\n",
       "    </tr>\n",
       "    <tr>\n",
       "      <th>PKC_group_Homo sapiens</th>\n",
       "      <td>RegPhos</td>\n",
       "      <td>(PLSCR1, KCNJ13, ADAP1, PRKD3, RASGRP1, HAND1,...</td>\n",
       "      <td>102</td>\n",
       "    </tr>\n",
       "    <tr>\n",
       "      <th>CK2_group_Homo sapiens</th>\n",
       "      <td>RegPhos</td>\n",
       "      <td>(KIF1C, VAMP4, C1R, TNF, VTN, MYCN, JUN, SSB, ...</td>\n",
       "      <td>84</td>\n",
       "    </tr>\n",
       "  </tbody>\n",
       "</table>\n",
       "</div>"
      ],
      "text/plain": [
       "                           Description  \\\n",
       "kinase_organism                          \n",
       "PKA_group_Homo sapiens         RegPhos   \n",
       "autocatalysis_Homo sapiens     RegPhos   \n",
       "SRC_Homo sapiens               RegPhos   \n",
       "PKC_group_Homo sapiens         RegPhos   \n",
       "CK2_group_Homo sapiens         RegPhos   \n",
       "\n",
       "                                                                target_symbol  \\\n",
       "kinase_organism                                                                 \n",
       "PKA_group_Homo sapiens      (AURKA, PJA2, KCNQ2, RGS14, RGS10, ENSA, KCNJ1...   \n",
       "autocatalysis_Homo sapiens  (CASK, PDPK1, DAPK3, MAP3K7, RIPK2, JAK2, RPS6...   \n",
       "SRC_Homo sapiens            (PLSCR1, NPHP1, TP73, INPPL1, RGS16, PDPK1, SP...   \n",
       "PKC_group_Homo sapiens      (PLSCR1, KCNJ13, ADAP1, PRKD3, RASGRP1, HAND1,...   \n",
       "CK2_group_Homo sapiens      (KIF1C, VAMP4, C1R, TNF, VTN, MYCN, JUN, SSB, ...   \n",
       "\n",
       "                            kinase_targets_num  \n",
       "kinase_organism                                 \n",
       "PKA_group_Homo sapiens                     160  \n",
       "autocatalysis_Homo sapiens                 116  \n",
       "SRC_Homo sapiens                           105  \n",
       "PKC_group_Homo sapiens                     102  \n",
       "CK2_group_Homo sapiens                      84  "
      ]
     },
     "execution_count": 94,
     "metadata": {},
     "output_type": "execute_result"
    }
   ],
   "source": [
    "# Create column representing counts of protein targets per kinase\n",
    "kin['kinase_targets_num'] = [len(lst) for kinase, lst in kin['target_symbol'].iteritems()]\n",
    "\n",
    "# Sort kinases from max to min according to number of protein targets each has\n",
    "kin.sort_values(by = ['kinase_targets_num'], ascending= False, inplace=True)\n",
    "\n",
    "# Visualize data\n",
    "kin.head()"
   ]
  },
  {
   "cell_type": "markdown",
   "metadata": {},
   "source": [
    "## Create Histogram to display distribution of number of targets per kinase"
   ]
  },
  {
   "cell_type": "code",
   "execution_count": 95,
   "metadata": {},
   "outputs": [
    {
     "data": {
      "image/png": "[encoded data removed]",
      "text/plain": [
       "<matplotlib.figure.Figure at 0x7f04ebd94940>"
      ]
     },
     "metadata": {},
     "output_type": "display_data"
    }
   ],
   "source": [
    "# Create histogram displaying the distribution of the number\n",
    "#targets per kinase\n",
    "kin.plot.hist(by = 'kinase_targets_num', bins = 37)\n",
    "\n",
    "#Show histogram\n",
    "plt.show()"
   ]
  },
  {
   "cell_type": "markdown",
   "metadata": {},
   "source": [
    "# Creation of Final .GMT File"
   ]
  },
  {
   "cell_type": "markdown",
   "metadata": {},
   "source": [
    "## Create Dictionary of Tab-Separated Rows of the Dataframe"
   ]
  },
  {
   "cell_type": "code",
   "execution_count": 96,
   "metadata": {
    "collapsed": true
   },
   "outputs": [],
   "source": [
    "#Reset index of the dataframe\n",
    "kin.reset_index(inplace = True)\n",
    "\n",
    "#create column 'target_symbol_merged' in which all 'target_symbol' elements are joined by a \\t symbol\n",
    "kin['target_symbol_merged'] = ['\\t'.join(x) for x in kin['target_symbol']]\n",
    "\n",
    "#drop the now-unneccesary column 'target_symbol' and 'kinase_targets_num'\n",
    "kin.drop('target_symbol', axis=1, inplace = True)\n",
    "kin.drop('kinase_targets_num', axis=1, inplace = True)\n",
    "\n",
    "#Create dictionary 'RegPhos' with index numbers as keys\n",
    "RegPhos_num = dict([(key, '') for key in kin.index])\n",
    "\n",
    "# loop through rows with iterrows()\n",
    "for index, rowData in kin.iterrows():\n",
    "    line = ('\\t'.join(rowData))\n",
    "    RegPhos_num[index] = line"
   ]
  },
  {
   "cell_type": "markdown",
   "metadata": {},
   "source": [
    "## Write Info from Dictionary into a .GMT file"
   ]
  },
  {
   "cell_type": "code",
   "execution_count": 97,
   "metadata": {
    "collapsed": true
   },
   "outputs": [],
   "source": [
    "#Transfer tab-separated info into a new txt file\n",
    "with open('RegPhosHuman.gmt', 'w') as openfile:\n",
    "    for index in RegPhos_num:\n",
    "        openfile.write(str(RegPhos_num[index]) + '\\n')"
   ]
  },
  {
   "cell_type": "markdown",
   "metadata": {},
   "source": [
    "## Test: Reading in the Newly-Created .GMT File"
   ]
  },
  {
   "cell_type": "code",
   "execution_count": 98,
   "metadata": {
    "collapsed": true
   },
   "outputs": [],
   "source": [
    "## Review formatting of the test, looks strange on this file but .gmt looks perfect"
   ]
  }
 ],
 "metadata": {
  "kernelspec": {
   "display_name": "Python 3",
   "language": "python",
   "name": "python3"
  },
  "language_info": {
   "codemirror_mode": {
    "name": "ipython",
    "version": 3
   },
   "file_extension": ".py",
   "mimetype": "text/x-python",
   "name": "python",
   "nbconvert_exporter": "python",
   "pygments_lexer": "ipython3",
   "version": "3.6.1"
  }
 },
 "nbformat": 4,
 "nbformat_minor": 2
}
