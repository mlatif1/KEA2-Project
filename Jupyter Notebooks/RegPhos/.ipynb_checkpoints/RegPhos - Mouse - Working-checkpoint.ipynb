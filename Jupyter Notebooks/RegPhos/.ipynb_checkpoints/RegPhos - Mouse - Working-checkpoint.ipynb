{
 "cells": [
  {
   "cell_type": "markdown",
   "metadata": {},
   "source": [
    "# RegPhos (Mouse) Data Formatting\n",
    "This file takes data regarding mouse kinase-protein interactions from the RegPhos database and converts the data into the .gmt format. The data was retrieved from the RegPhos database on Wed, Jun 14 2017 15:27:21 as a .txt file and was transferred to the excel format used on Wed, Jun 14 2017 16:30:44. This data will be added to enhance the KEA2 database and will be suitably formatted for use by ENRICHR and X2K. "
   ]
  },
  {
   "cell_type": "markdown",
   "metadata": {},
   "source": [
    "## Import packages necessary for following program"
   ]
  },
  {
   "cell_type": "code",
   "execution_count": 1,
   "metadata": {
    "collapsed": true
   },
   "outputs": [],
   "source": [
    "%run /home/maayanlab/Projects/Scripts/init.ipy\n",
    "%run /home/maayanlab/Projects/Scripts/Scripts.py"
   ]
  },
  {
   "cell_type": "markdown",
   "metadata": {},
   "source": [
    "## Create a dataframe from a file containing Mouse RegPhos data"
   ]
  },
  {
   "cell_type": "code",
   "execution_count": 2,
   "metadata": {},
   "outputs": [
    {
     "data": {
      "text/html": [
       "<div>\n",
       "<style>\n",
       "    .dataframe thead tr:only-child th {\n",
       "        text-align: right;\n",
       "    }\n",
       "\n",
       "    .dataframe thead th {\n",
       "        text-align: left;\n",
       "    }\n",
       "\n",
       "    .dataframe tbody tr th {\n",
       "        vertical-align: top;\n",
       "    }\n",
       "</style>\n",
       "<table border=\"1\" class=\"dataframe\">\n",
       "  <thead>\n",
       "    <tr style=\"text-align: right;\">\n",
       "      <th></th>\n",
       "      <th>ID</th>\n",
       "      <th>AC</th>\n",
       "      <th>position</th>\n",
       "      <th>decription</th>\n",
       "      <th>catalytic_kinase</th>\n",
       "      <th>reference</th>\n",
       "      <th>resource</th>\n",
       "      <th>code</th>\n",
       "    </tr>\n",
       "  </thead>\n",
       "  <tbody>\n",
       "    <tr>\n",
       "      <th>0</th>\n",
       "      <td>FOS_MOUSE</td>\n",
       "      <td>P01101</td>\n",
       "      <td>374</td>\n",
       "      <td>Phosphoserine</td>\n",
       "      <td>ERK2</td>\n",
       "      <td>12134156;12972619</td>\n",
       "      <td>Swiss-Prot 1010711</td>\n",
       "      <td>S</td>\n",
       "    </tr>\n",
       "    <tr>\n",
       "      <th>1</th>\n",
       "      <td>MYC_MOUSE</td>\n",
       "      <td>P01108</td>\n",
       "      <td>329</td>\n",
       "      <td>Phosphoserine</td>\n",
       "      <td>PIM2</td>\n",
       "      <td>18438430</td>\n",
       "      <td>Swiss-Prot 1010711</td>\n",
       "      <td>S</td>\n",
       "    </tr>\n",
       "    <tr>\n",
       "      <th>2</th>\n",
       "      <td>MYC_MOUSE</td>\n",
       "      <td>P01108</td>\n",
       "      <td>358</td>\n",
       "      <td>Phosphothreonine</td>\n",
       "      <td>PAK2</td>\n",
       "      <td>14749374</td>\n",
       "      <td>PhosphoELM.10011</td>\n",
       "      <td>T</td>\n",
       "    </tr>\n",
       "    <tr>\n",
       "      <th>3</th>\n",
       "      <td>MYC_MOUSE</td>\n",
       "      <td>P01108</td>\n",
       "      <td>373</td>\n",
       "      <td>Phosphoserine</td>\n",
       "      <td>PAK2</td>\n",
       "      <td>14749374</td>\n",
       "      <td>PhosphoELM.10011</td>\n",
       "      <td>S</td>\n",
       "    </tr>\n",
       "    <tr>\n",
       "      <th>4</th>\n",
       "      <td>MYC_MOUSE</td>\n",
       "      <td>P01108</td>\n",
       "      <td>400</td>\n",
       "      <td>Phosphothreonine</td>\n",
       "      <td>PAK2</td>\n",
       "      <td>14749374</td>\n",
       "      <td>PhosphoELM.10011</td>\n",
       "      <td>T</td>\n",
       "    </tr>\n",
       "  </tbody>\n",
       "</table>\n",
       "</div>"
      ],
      "text/plain": [
       "          ID      AC  position        decription catalytic_kinase  \\\n",
       "0  FOS_MOUSE  P01101       374     Phosphoserine             ERK2   \n",
       "1  MYC_MOUSE  P01108       329     Phosphoserine             PIM2   \n",
       "2  MYC_MOUSE  P01108       358  Phosphothreonine             PAK2   \n",
       "3  MYC_MOUSE  P01108       373     Phosphoserine             PAK2   \n",
       "4  MYC_MOUSE  P01108       400  Phosphothreonine             PAK2   \n",
       "\n",
       "           reference            resource code  \n",
       "0  12134156;12972619  Swiss-Prot 1010711    S  \n",
       "1           18438430  Swiss-Prot 1010711    S  \n",
       "2           14749374    PhosphoELM.10011    T  \n",
       "3           14749374    PhosphoELM.10011    S  \n",
       "4           14749374    PhosphoELM.10011    T  "
      ]
     },
     "execution_count": 2,
     "metadata": {},
     "output_type": "execute_result"
    }
   ],
   "source": [
    "#Define column names as headers from original .txt file\n",
    "colnames = ['ID', 'AC', 'position', 'decription', \n",
    "            'catalytic_kinase','reference', 'resource', 'code' ]\n",
    "\n",
    "#read data from excel file into dataframe 'regphos_df'\n",
    "regphos_df = pd.read_excel('~/Desktop/RegPhos_Phos_mouse.xlsm', \n",
    "                           header = None, names = colnames)\n",
    "\n",
    "#drop all rows with an 'NaN' value for the kinases\n",
    "regphos_df.dropna(axis = 0, inplace = True)\n",
    "\n",
    "#View dataframe\n",
    "regphos_df.head()"
   ]
  },
  {
   "cell_type": "markdown",
   "metadata": {},
   "source": [
    "## Convert UniProt IDs to Gene Symbols"
   ]
  },
  {
   "cell_type": "code",
   "execution_count": 3,
   "metadata": {},
   "outputs": [
    {
     "data": {
      "text/html": [
       "<div>\n",
       "<style>\n",
       "    .dataframe thead tr:only-child th {\n",
       "        text-align: right;\n",
       "    }\n",
       "\n",
       "    .dataframe thead th {\n",
       "        text-align: left;\n",
       "    }\n",
       "\n",
       "    .dataframe tbody tr th {\n",
       "        vertical-align: top;\n",
       "    }\n",
       "</style>\n",
       "<table border=\"1\" class=\"dataframe\">\n",
       "  <thead>\n",
       "    <tr style=\"text-align: right;\">\n",
       "      <th></th>\n",
       "      <th>ID</th>\n",
       "      <th>AC</th>\n",
       "      <th>position</th>\n",
       "      <th>decription</th>\n",
       "      <th>catalytic_kinase</th>\n",
       "      <th>reference</th>\n",
       "      <th>resource</th>\n",
       "      <th>code</th>\n",
       "      <th>target_symbol</th>\n",
       "    </tr>\n",
       "  </thead>\n",
       "  <tbody>\n",
       "    <tr>\n",
       "      <th>0</th>\n",
       "      <td>FOS_MOUSE</td>\n",
       "      <td>P01101</td>\n",
       "      <td>374</td>\n",
       "      <td>Phosphoserine</td>\n",
       "      <td>ERK2</td>\n",
       "      <td>12134156;12972619</td>\n",
       "      <td>Swiss-Prot 1010711</td>\n",
       "      <td>S</td>\n",
       "      <td>Fos</td>\n",
       "    </tr>\n",
       "    <tr>\n",
       "      <th>1</th>\n",
       "      <td>MYC_MOUSE</td>\n",
       "      <td>P01108</td>\n",
       "      <td>329</td>\n",
       "      <td>Phosphoserine</td>\n",
       "      <td>PIM2</td>\n",
       "      <td>18438430</td>\n",
       "      <td>Swiss-Prot 1010711</td>\n",
       "      <td>S</td>\n",
       "      <td>Myc</td>\n",
       "    </tr>\n",
       "    <tr>\n",
       "      <th>2</th>\n",
       "      <td>MYC_MOUSE</td>\n",
       "      <td>P01108</td>\n",
       "      <td>358</td>\n",
       "      <td>Phosphothreonine</td>\n",
       "      <td>PAK2</td>\n",
       "      <td>14749374</td>\n",
       "      <td>PhosphoELM.10011</td>\n",
       "      <td>T</td>\n",
       "      <td>Myc</td>\n",
       "    </tr>\n",
       "    <tr>\n",
       "      <th>3</th>\n",
       "      <td>MYC_MOUSE</td>\n",
       "      <td>P01108</td>\n",
       "      <td>373</td>\n",
       "      <td>Phosphoserine</td>\n",
       "      <td>PAK2</td>\n",
       "      <td>14749374</td>\n",
       "      <td>PhosphoELM.10011</td>\n",
       "      <td>S</td>\n",
       "      <td>Myc</td>\n",
       "    </tr>\n",
       "    <tr>\n",
       "      <th>4</th>\n",
       "      <td>MYC_MOUSE</td>\n",
       "      <td>P01108</td>\n",
       "      <td>400</td>\n",
       "      <td>Phosphothreonine</td>\n",
       "      <td>PAK2</td>\n",
       "      <td>14749374</td>\n",
       "      <td>PhosphoELM.10011</td>\n",
       "      <td>T</td>\n",
       "      <td>Myc</td>\n",
       "    </tr>\n",
       "  </tbody>\n",
       "</table>\n",
       "</div>"
      ],
      "text/plain": [
       "          ID      AC  position        decription catalytic_kinase  \\\n",
       "0  FOS_MOUSE  P01101       374     Phosphoserine             ERK2   \n",
       "1  MYC_MOUSE  P01108       329     Phosphoserine             PIM2   \n",
       "2  MYC_MOUSE  P01108       358  Phosphothreonine             PAK2   \n",
       "3  MYC_MOUSE  P01108       373     Phosphoserine             PAK2   \n",
       "4  MYC_MOUSE  P01108       400  Phosphothreonine             PAK2   \n",
       "\n",
       "           reference            resource code target_symbol  \n",
       "0  12134156;12972619  Swiss-Prot 1010711    S           Fos  \n",
       "1           18438430  Swiss-Prot 1010711    S           Myc  \n",
       "2           14749374    PhosphoELM.10011    T           Myc  \n",
       "3           14749374    PhosphoELM.10011    S           Myc  \n",
       "4           14749374    PhosphoELM.10011    T           Myc  "
      ]
     },
     "execution_count": 3,
     "metadata": {},
     "output_type": "execute_result"
    }
   ],
   "source": [
    "#Use uniprot_to_symbol function from Scripts.py to convert\n",
    "regphos_df['target_symbol'] = Scripts.uniprot_to_symbol(regphos_df['AC'].tolist())\n",
    "\n",
    "#View dataframe\n",
    "regphos_df.head()"
   ]
  },
  {
   "cell_type": "markdown",
   "metadata": {},
   "source": [
    "## Create a new column combining kinases and organism"
   ]
  },
  {
   "cell_type": "markdown",
   "metadata": {},
   "source": [
    "# ASK!!!!!!!!!! What should be done with autocatalysis & alternate group?\n",
    "\n",
    "# Also, some kinases not official gene symbols"
   ]
  },
  {
   "cell_type": "code",
   "execution_count": 5,
   "metadata": {},
   "outputs": [
    {
     "data": {
      "text/html": [
       "<div>\n",
       "<style>\n",
       "    .dataframe thead tr:only-child th {\n",
       "        text-align: right;\n",
       "    }\n",
       "\n",
       "    .dataframe thead th {\n",
       "        text-align: left;\n",
       "    }\n",
       "\n",
       "    .dataframe tbody tr th {\n",
       "        vertical-align: top;\n",
       "    }\n",
       "</style>\n",
       "<table border=\"1\" class=\"dataframe\">\n",
       "  <thead>\n",
       "    <tr style=\"text-align: right;\">\n",
       "      <th></th>\n",
       "      <th>ID</th>\n",
       "      <th>AC</th>\n",
       "      <th>position</th>\n",
       "      <th>decription</th>\n",
       "      <th>catalytic_kinase</th>\n",
       "      <th>reference</th>\n",
       "      <th>resource</th>\n",
       "      <th>code</th>\n",
       "      <th>target_symbol</th>\n",
       "      <th>kinase_organism</th>\n",
       "    </tr>\n",
       "  </thead>\n",
       "  <tbody>\n",
       "    <tr>\n",
       "      <th>0</th>\n",
       "      <td>FOS_MOUSE</td>\n",
       "      <td>P01101</td>\n",
       "      <td>374</td>\n",
       "      <td>Phosphoserine</td>\n",
       "      <td>ERK2</td>\n",
       "      <td>12134156;12972619</td>\n",
       "      <td>Swiss-Prot 1010711</td>\n",
       "      <td>S</td>\n",
       "      <td>Fos</td>\n",
       "      <td>ERK2_Mus musculus</td>\n",
       "    </tr>\n",
       "    <tr>\n",
       "      <th>1</th>\n",
       "      <td>MYC_MOUSE</td>\n",
       "      <td>P01108</td>\n",
       "      <td>329</td>\n",
       "      <td>Phosphoserine</td>\n",
       "      <td>PIM2</td>\n",
       "      <td>18438430</td>\n",
       "      <td>Swiss-Prot 1010711</td>\n",
       "      <td>S</td>\n",
       "      <td>Myc</td>\n",
       "      <td>PIM2_Mus musculus</td>\n",
       "    </tr>\n",
       "    <tr>\n",
       "      <th>2</th>\n",
       "      <td>MYC_MOUSE</td>\n",
       "      <td>P01108</td>\n",
       "      <td>358</td>\n",
       "      <td>Phosphothreonine</td>\n",
       "      <td>PAK2</td>\n",
       "      <td>14749374</td>\n",
       "      <td>PhosphoELM.10011</td>\n",
       "      <td>T</td>\n",
       "      <td>Myc</td>\n",
       "      <td>PAK2_Mus musculus</td>\n",
       "    </tr>\n",
       "    <tr>\n",
       "      <th>3</th>\n",
       "      <td>MYC_MOUSE</td>\n",
       "      <td>P01108</td>\n",
       "      <td>373</td>\n",
       "      <td>Phosphoserine</td>\n",
       "      <td>PAK2</td>\n",
       "      <td>14749374</td>\n",
       "      <td>PhosphoELM.10011</td>\n",
       "      <td>S</td>\n",
       "      <td>Myc</td>\n",
       "      <td>PAK2_Mus musculus</td>\n",
       "    </tr>\n",
       "    <tr>\n",
       "      <th>4</th>\n",
       "      <td>MYC_MOUSE</td>\n",
       "      <td>P01108</td>\n",
       "      <td>400</td>\n",
       "      <td>Phosphothreonine</td>\n",
       "      <td>PAK2</td>\n",
       "      <td>14749374</td>\n",
       "      <td>PhosphoELM.10011</td>\n",
       "      <td>T</td>\n",
       "      <td>Myc</td>\n",
       "      <td>PAK2_Mus musculus</td>\n",
       "    </tr>\n",
       "  </tbody>\n",
       "</table>\n",
       "</div>"
      ],
      "text/plain": [
       "          ID      AC  position        decription catalytic_kinase  \\\n",
       "0  FOS_MOUSE  P01101       374     Phosphoserine             ERK2   \n",
       "1  MYC_MOUSE  P01108       329     Phosphoserine             PIM2   \n",
       "2  MYC_MOUSE  P01108       358  Phosphothreonine             PAK2   \n",
       "3  MYC_MOUSE  P01108       373     Phosphoserine             PAK2   \n",
       "4  MYC_MOUSE  P01108       400  Phosphothreonine             PAK2   \n",
       "\n",
       "           reference            resource code target_symbol    kinase_organism  \n",
       "0  12134156;12972619  Swiss-Prot 1010711    S           Fos  ERK2_Mus musculus  \n",
       "1           18438430  Swiss-Prot 1010711    S           Myc  PIM2_Mus musculus  \n",
       "2           14749374    PhosphoELM.10011    T           Myc  PAK2_Mus musculus  \n",
       "3           14749374    PhosphoELM.10011    S           Myc  PAK2_Mus musculus  \n",
       "4           14749374    PhosphoELM.10011    T           Myc  PAK2_Mus musculus  "
      ]
     },
     "execution_count": 5,
     "metadata": {},
     "output_type": "execute_result"
    }
   ],
   "source": [
    "# Combine 'kinases' and 'species' into one column 'kinase_organism'\n",
    "regphos_df['kinase_organism'] = ['_'.join([str(kinase), 'Mus musculus']) for kinase\n",
    "                                in regphos_df.catalytic_kinase]\n",
    "\n",
    "#View dataframe\n",
    "regphos_df.head()"
   ]
  },
  {
   "cell_type": "markdown",
   "metadata": {},
   "source": [
    "## Perform preliminary data processing\n",
    "Select columns necessary for .gmt format and filter into new dataframe 'df' df = phospho_df[['acc', 'kinases', 'species']]We must drop duplicates and NaNs, as well as select only the columns necessary for the .gmt file format (the protein ids and kinase gene symbols). "
   ]
  },
  {
   "cell_type": "code",
   "execution_count": 7,
   "metadata": {},
   "outputs": [
    {
     "name": "stderr",
     "output_type": "stream",
     "text": [
      "/home/maayanlab/anaconda3/lib/python3.6/site-packages/ipykernel_launcher.py:5: SettingWithCopyWarning: \n",
      "A value is trying to be set on a copy of a slice from a DataFrame\n",
      "\n",
      "See the caveats in the documentation: http://pandas.pydata.org/pandas-docs/stable/indexing.html#indexing-view-versus-copy\n",
      "  \"\"\"\n",
      "/home/maayanlab/anaconda3/lib/python3.6/site-packages/ipykernel_launcher.py:8: SettingWithCopyWarning: \n",
      "A value is trying to be set on a copy of a slice from a DataFrame\n",
      "\n",
      "See the caveats in the documentation: http://pandas.pydata.org/pandas-docs/stable/indexing.html#indexing-view-versus-copy\n",
      "  \n"
     ]
    },
    {
     "data": {
      "text/html": [
       "<div>\n",
       "<style>\n",
       "    .dataframe thead tr:only-child th {\n",
       "        text-align: right;\n",
       "    }\n",
       "\n",
       "    .dataframe thead th {\n",
       "        text-align: left;\n",
       "    }\n",
       "\n",
       "    .dataframe tbody tr th {\n",
       "        vertical-align: top;\n",
       "    }\n",
       "</style>\n",
       "<table border=\"1\" class=\"dataframe\">\n",
       "  <thead>\n",
       "    <tr style=\"text-align: right;\">\n",
       "      <th></th>\n",
       "      <th>target_symbol</th>\n",
       "      <th>kinase_organism</th>\n",
       "    </tr>\n",
       "  </thead>\n",
       "  <tbody>\n",
       "    <tr>\n",
       "      <th>0</th>\n",
       "      <td>Fos</td>\n",
       "      <td>ERK2_Mus musculus</td>\n",
       "    </tr>\n",
       "    <tr>\n",
       "      <th>1</th>\n",
       "      <td>Myc</td>\n",
       "      <td>PIM2_Mus musculus</td>\n",
       "    </tr>\n",
       "    <tr>\n",
       "      <th>2</th>\n",
       "      <td>Myc</td>\n",
       "      <td>PAK2_Mus musculus</td>\n",
       "    </tr>\n",
       "    <tr>\n",
       "      <th>5</th>\n",
       "      <td>Tp53</td>\n",
       "      <td>HIPK4_Mus musculus</td>\n",
       "    </tr>\n",
       "    <tr>\n",
       "      <th>6</th>\n",
       "      <td>Tp53</td>\n",
       "      <td>CDK5_Mus musculus</td>\n",
       "    </tr>\n",
       "  </tbody>\n",
       "</table>\n",
       "</div>"
      ],
      "text/plain": [
       "  target_symbol     kinase_organism\n",
       "0           Fos   ERK2_Mus musculus\n",
       "1           Myc   PIM2_Mus musculus\n",
       "2           Myc   PAK2_Mus musculus\n",
       "5          Tp53  HIPK4_Mus musculus\n",
       "6          Tp53   CDK5_Mus musculus"
      ]
     },
     "execution_count": 7,
     "metadata": {},
     "output_type": "execute_result"
    }
   ],
   "source": [
    "#select columns necessary for .gmt format and filter into new dataframe 'df'\n",
    "df = regphos_df[['target_symbol', 'kinase_organism']]\n",
    "\n",
    "#drop duplicate rows in the dataframe\n",
    "df.drop_duplicates(inplace = True)\n",
    "\n",
    "#drop all rows with an 'NaN' value for the kinases\n",
    "df.dropna(axis = 0, inplace = True)\n",
    "\n",
    "#Visualize data\n",
    "df.head()"
   ]
  },
  {
   "cell_type": "markdown",
   "metadata": {},
   "source": [
    "## Set Index to 'Kinase_Organism' and Aggregate Kinase Targets"
   ]
  },
  {
   "cell_type": "code",
   "execution_count": 8,
   "metadata": {},
   "outputs": [
    {
     "data": {
      "text/html": [
       "<div>\n",
       "<style>\n",
       "    .dataframe thead tr:only-child th {\n",
       "        text-align: right;\n",
       "    }\n",
       "\n",
       "    .dataframe thead th {\n",
       "        text-align: left;\n",
       "    }\n",
       "\n",
       "    .dataframe tbody tr th {\n",
       "        vertical-align: top;\n",
       "    }\n",
       "</style>\n",
       "<table border=\"1\" class=\"dataframe\">\n",
       "  <thead>\n",
       "    <tr style=\"text-align: right;\">\n",
       "      <th></th>\n",
       "      <th>Description</th>\n",
       "      <th>target_symbol</th>\n",
       "    </tr>\n",
       "    <tr>\n",
       "      <th>kinase_organism</th>\n",
       "      <th></th>\n",
       "      <th></th>\n",
       "    </tr>\n",
       "  </thead>\n",
       "  <tbody>\n",
       "    <tr>\n",
       "      <th>ABL1_Mus musculus</th>\n",
       "      <td>RegPhos</td>\n",
       "      <td>(Pdgfrb, Myod1, App, Cbl, Cdk5, Cav1, Dok1, Bc...</td>\n",
       "    </tr>\n",
       "    <tr>\n",
       "      <th>ABL2_Mus musculus</th>\n",
       "      <td>RegPhos</td>\n",
       "      <td>(Pdgfrb, Arhgap35)</td>\n",
       "    </tr>\n",
       "    <tr>\n",
       "      <th>ABL_Mus musculus</th>\n",
       "      <td>RegPhos</td>\n",
       "      <td>(Cdv3,)</td>\n",
       "    </tr>\n",
       "    <tr>\n",
       "      <th>ACK_Mus musculus</th>\n",
       "      <td>RegPhos</td>\n",
       "      <td>(Akt1, Wasl)</td>\n",
       "    </tr>\n",
       "    <tr>\n",
       "      <th>AKT1_Mus musculus</th>\n",
       "      <td>RegPhos</td>\n",
       "      <td>(Cdkn1b, Creb1, Gsk3a, Tbc1d1, Pde3b, Tbc1d4, ...</td>\n",
       "    </tr>\n",
       "  </tbody>\n",
       "</table>\n",
       "</div>"
      ],
      "text/plain": [
       "                  Description  \\\n",
       "kinase_organism                 \n",
       "ABL1_Mus musculus     RegPhos   \n",
       "ABL2_Mus musculus     RegPhos   \n",
       "ABL_Mus musculus      RegPhos   \n",
       "ACK_Mus musculus      RegPhos   \n",
       "AKT1_Mus musculus     RegPhos   \n",
       "\n",
       "                                                       target_symbol  \n",
       "kinase_organism                                                       \n",
       "ABL1_Mus musculus  (Pdgfrb, Myod1, App, Cbl, Cdk5, Cav1, Dok1, Bc...  \n",
       "ABL2_Mus musculus                                 (Pdgfrb, Arhgap35)  \n",
       "ABL_Mus musculus                                             (Cdv3,)  \n",
       "ACK_Mus musculus                                        (Akt1, Wasl)  \n",
       "AKT1_Mus musculus  (Cdkn1b, Creb1, Gsk3a, Tbc1d1, Pde3b, Tbc1d4, ...  "
      ]
     },
     "execution_count": 8,
     "metadata": {},
     "output_type": "execute_result"
    }
   ],
   "source": [
    "df.set_index('kinase_organism')\n",
    "\n",
    "#Group kinases in dataframe 'kin'\n",
    "#Aggregate data in 'kin' according to kinase groups\n",
    "kin = df.groupby('kinase_organism').agg(lambda x: tuple(x))\n",
    "\n",
    "#Create a new column with 'RegPhos' as description of data\n",
    "kin.insert(0, 'Description', 'RegPhos')\n",
    "\n",
    "#Visualize Data\n",
    "kin.head()"
   ]
  },
  {
   "cell_type": "markdown",
   "metadata": {},
   "source": [
    "# Exploratory Data Analysis"
   ]
  },
  {
   "cell_type": "markdown",
   "metadata": {},
   "source": [
    "## Calculate Number of Protein Targets for each kinase\n",
    "Create a new column with the number of substrates related to each kinase, and sort the dataframe by this column"
   ]
  },
  {
   "cell_type": "code",
   "execution_count": 9,
   "metadata": {},
   "outputs": [
    {
     "data": {
      "text/html": [
       "<div>\n",
       "<style>\n",
       "    .dataframe thead tr:only-child th {\n",
       "        text-align: right;\n",
       "    }\n",
       "\n",
       "    .dataframe thead th {\n",
       "        text-align: left;\n",
       "    }\n",
       "\n",
       "    .dataframe tbody tr th {\n",
       "        vertical-align: top;\n",
       "    }\n",
       "</style>\n",
       "<table border=\"1\" class=\"dataframe\">\n",
       "  <thead>\n",
       "    <tr style=\"text-align: right;\">\n",
       "      <th></th>\n",
       "      <th>Description</th>\n",
       "      <th>target_symbol</th>\n",
       "      <th>kinase_targets_num</th>\n",
       "    </tr>\n",
       "    <tr>\n",
       "      <th>kinase_organism</th>\n",
       "      <th></th>\n",
       "      <th></th>\n",
       "      <th></th>\n",
       "    </tr>\n",
       "  </thead>\n",
       "  <tbody>\n",
       "    <tr>\n",
       "      <th>autocatalysis_Mus musculus</th>\n",
       "      <td>RegPhos</td>\n",
       "      <td>(Prkaca, Lck, Hck, Csf1r, Camk2a, Prkce, Fes, ...</td>\n",
       "      <td>42</td>\n",
       "    </tr>\n",
       "    <tr>\n",
       "      <th>PKA_group_Mus musculus</th>\n",
       "      <td>RegPhos</td>\n",
       "      <td>(Fcor, Rara, Hspb1, Vim, Tnni3, Stmn1, Arpp19,...</td>\n",
       "      <td>25</td>\n",
       "    </tr>\n",
       "    <tr>\n",
       "      <th>ERK2_Mus musculus</th>\n",
       "      <td>RegPhos</td>\n",
       "      <td>(Fos, Itpr1, Ets2, Atf2, Tnfrsf1a, Cebpb, Dusp...</td>\n",
       "      <td>25</td>\n",
       "    </tr>\n",
       "    <tr>\n",
       "      <th>AMPK_group_Mus musculus</th>\n",
       "      <td>RegPhos</td>\n",
       "      <td>(Tp53, Hist1h2bn, Hist1h2bm, Irs1, Pfkfb2, Cry...</td>\n",
       "      <td>23</td>\n",
       "    </tr>\n",
       "    <tr>\n",
       "      <th>PKC_group_Mus musculus</th>\n",
       "      <td>RegPhos</td>\n",
       "      <td>(Il1r1, Hspb1, Vim, Marcks, Marcksl1, Irs1, Lm...</td>\n",
       "      <td>20</td>\n",
       "    </tr>\n",
       "  </tbody>\n",
       "</table>\n",
       "</div>"
      ],
      "text/plain": [
       "                           Description  \\\n",
       "kinase_organism                          \n",
       "autocatalysis_Mus musculus     RegPhos   \n",
       "PKA_group_Mus musculus         RegPhos   \n",
       "ERK2_Mus musculus              RegPhos   \n",
       "AMPK_group_Mus musculus        RegPhos   \n",
       "PKC_group_Mus musculus         RegPhos   \n",
       "\n",
       "                                                                target_symbol  \\\n",
       "kinase_organism                                                                 \n",
       "autocatalysis_Mus musculus  (Prkaca, Lck, Hck, Csf1r, Camk2a, Prkce, Fes, ...   \n",
       "PKA_group_Mus musculus      (Fcor, Rara, Hspb1, Vim, Tnni3, Stmn1, Arpp19,...   \n",
       "ERK2_Mus musculus           (Fos, Itpr1, Ets2, Atf2, Tnfrsf1a, Cebpb, Dusp...   \n",
       "AMPK_group_Mus musculus     (Tp53, Hist1h2bn, Hist1h2bm, Irs1, Pfkfb2, Cry...   \n",
       "PKC_group_Mus musculus      (Il1r1, Hspb1, Vim, Marcks, Marcksl1, Irs1, Lm...   \n",
       "\n",
       "                            kinase_targets_num  \n",
       "kinase_organism                                 \n",
       "autocatalysis_Mus musculus                  42  \n",
       "PKA_group_Mus musculus                      25  \n",
       "ERK2_Mus musculus                           25  \n",
       "AMPK_group_Mus musculus                     23  \n",
       "PKC_group_Mus musculus                      20  "
      ]
     },
     "execution_count": 9,
     "metadata": {},
     "output_type": "execute_result"
    }
   ],
   "source": [
    "# Create column representing counts of protein targets per kinase\n",
    "kin['kinase_targets_num'] = [len(lst) for kinase, lst in kin['target_symbol'].iteritems()]\n",
    "\n",
    "# Sort kinases from max to min according to number of protein targets each has\n",
    "kin.sort_values(by = ['kinase_targets_num'], ascending= False, inplace=True)\n",
    "\n",
    "# Visualize data\n",
    "kin.head()"
   ]
  },
  {
   "cell_type": "code",
   "execution_count": 11,
   "metadata": {},
   "outputs": [
    {
     "data": {
      "image/png": "[encoded data removed]",
      "text/plain": [
       "<matplotlib.figure.Figure at 0x7f8849b8a828>"
      ]
     },
     "metadata": {},
     "output_type": "display_data"
    }
   ],
   "source": [
    "# Create histogram displaying the distribution of the number\n",
    "#targets per kinase\n",
    "kin.plot.hist(by = 'kinase_targets_num', bins = 19)\n",
    "\n",
    "#Show histogram\n",
    "plt.show()"
   ]
  },
  {
   "cell_type": "markdown",
   "metadata": {},
   "source": [
    "# Creation of Final .GMT File"
   ]
  },
  {
   "cell_type": "markdown",
   "metadata": {},
   "source": [
    "## Create Dictionary pf Tab-Separated Rows of the Dataframe"
   ]
  },
  {
   "cell_type": "code",
   "execution_count": 12,
   "metadata": {
    "collapsed": true
   },
   "outputs": [],
   "source": [
    "#Reset index of the dataframe\n",
    "kin.reset_index(inplace = True)\n",
    "\n",
    "#create column 'target_symbol_merged' in which all 'target_symbol' elements are joined by a \\t symbol\n",
    "kin['target_symbol_merged'] = ['\\t'.join(x) for x in kin['target_symbol']]\n",
    "\n",
    "#drop the now-unneccesary column 'target_symbol' and 'kinase_targets_num'\n",
    "kin.drop('target_symbol', axis=1, inplace = True)\n",
    "kin.drop('kinase_targets_num', axis=1, inplace = True)\n",
    "\n",
    "#Create dictionary 'RegPhos' with index numbers as keys\n",
    "RegPhos_num = dict([(key, '') for key in kin.index])\n",
    "\n",
    "# loop through rows with iterrows()\n",
    "for index, rowData in kin.iterrows():\n",
    "    line = ('\\t'.join(rowData))\n",
    "    RegPhos_num[index] = line"
   ]
  },
  {
   "cell_type": "markdown",
   "metadata": {},
   "source": [
    "## Write Info from Dictionary into a .GMT file"
   ]
  },
  {
   "cell_type": "code",
   "execution_count": 13,
   "metadata": {
    "collapsed": true
   },
   "outputs": [],
   "source": [
    "#Transfer tab-separated info into a new txt file\n",
    "with open('RegPhosMouse.gmt', 'w') as openfile:\n",
    "    for index in RegPhos_num:\n",
    "        openfile.write(str(RegPhos_num[index]) + '\\n')"
   ]
  },
  {
   "cell_type": "markdown",
   "metadata": {},
   "source": [
    "## Test: Reading in the Newly-Created .GMT File"
   ]
  },
  {
   "cell_type": "code",
   "execution_count": 14,
   "metadata": {
    "collapsed": true
   },
   "outputs": [],
   "source": [
    "## Review formatting of the test, looks strange on this file but .gmt looks perfect"
   ]
  }
 ],
 "metadata": {
  "kernelspec": {
   "display_name": "Python 3",
   "language": "python",
   "name": "python3"
  },
  "language_info": {
   "codemirror_mode": {
    "name": "ipython",
    "version": 3
   },
   "file_extension": ".py",
   "mimetype": "text/x-python",
   "name": "python",
   "nbconvert_exporter": "python",
   "pygments_lexer": "ipython3",
   "version": "3.6.1"
  }
 },
 "nbformat": 4,
 "nbformat_minor": 2
}
