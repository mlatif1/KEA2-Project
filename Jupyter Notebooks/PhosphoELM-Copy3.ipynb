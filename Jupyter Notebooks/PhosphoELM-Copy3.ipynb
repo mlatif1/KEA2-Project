{
 "cells": [
  {
   "cell_type": "code",
   "execution_count": null,
   "metadata": {
    "collapsed": true
   },
   "outputs": [],
   "source": [
    "import numpy as np\n",
    "import pandas as pd"
   ]
  },
  {
   "cell_type": "markdown",
   "metadata": {},
   "source": [
    "### Load the data"
   ]
  },
  {
   "cell_type": "code",
   "execution_count": null,
   "metadata": {
    "collapsed": true
   },
   "outputs": [],
   "source": [
    "#read data from excel file into dataframe 'phospho_df'\n",
    "phospho_df = pd.read_excel('~/Desktop/phosphoELM_all_2015-04.xlsm')"
   ]
  },
  {
   "cell_type": "code",
   "execution_count": null,
   "metadata": {},
   "outputs": [],
   "source": []
  },
  {
   "cell_type": "code",
   "execution_count": null,
   "metadata": {},
   "outputs": [],
   "source": [
    "phospho_df['species'].unique()"
   ]
  },
  {
   "cell_type": "code",
   "execution_count": null,
   "metadata": {
    "scrolled": true
   },
   "outputs": [],
   "source": [
    "#select columns necessary for .gmt format and filter into new dataframe 'df'\n",
    "df = phospho_df[['acc', 'kinases']]\n",
    "\n",
    "#drop all columns with an 'NaN' value for the kinases\n",
    "df.dropna(axis = 0, inplace = True)\n",
    "\n",
    "#drop duplicate rows in the dataframe\n",
    "df.drop_duplicates(inplace = True)\n",
    "\n",
    "#set index of protein values 'acc' as kinases\n",
    "#creates new dataframe 'kin'\n",
    "kin = df.set_index('kinases')\n",
    "\n",
    "#Group kinases in dataframe 'kin'\n",
    "#Aggregate data in 'kin' according to kinase groups\n",
    "kin = kin.groupby('kinases').agg(lambda x: tuple(x))\n",
    "\n",
    "#Create a new column 'PhosphoELM' as description of data\n",
    "kin.insert(0, 'Description', 'PhosphoELM')\n",
    "\n",
    "#Create dictionary 'PhosphoELM' with kinases as keys\n",
    "#PhosphoELM = dict([(key, []) for key in kin.index])\n",
    "\n",
    "#Fill dict with values corresponding to 'PhosphoELM' and relevant proteins\n",
    "#for key in kin.index:\n",
    "   # PhosphoELM[key] = ([['PhosphoELM'], [kin.acc[key]]])\n",
    "    \n"
   ]
  },
  {
   "cell_type": "code",
   "execution_count": null,
   "metadata": {},
   "outputs": [],
   "source": [
    "kin.head()"
   ]
  },
  {
   "cell_type": "code",
   "execution_count": null,
   "metadata": {},
   "outputs": [],
   "source": [
    "# fix the dataframe in order to have three columns:\n",
    "# kinases, description, acc_merged (acc, but all elements are joined by a \\t symbol)\n",
    "# with a reset index\n",
    "\n",
    "#reset index of the datframe to integers, restores column 'kinases'\n",
    "kin.reset_index(inplace = True)\n",
    "\n",
    "\n",
    "#create column 'acc_merged' in which all 'acc' elements are joined by a \\t symbol\n",
    "kin['acc_merged'] = ['\\t'.join(x) for x in kin['acc']]\n",
    "\n",
    "#drop the now-unneccesary column 'acc'\n",
    "kin.drop('acc', axis=1, inplace = True)\n",
    "\n",
    "#Create dictionary 'PhosphoELM' with kinases as keys\n",
    "PhosphoELM = dict([(key, []) for key in kin.index])\n",
    "\n",
    "# loop through rows with iterrows()\n",
    "for index, rowData in kin.iterrows():\n",
    "    line = ['\\t'.join(rowData)]\n",
    "    PhosphoELM[index] = line\n"
   ]
  },
  {
   "cell_type": "code",
   "execution_count": null,
   "metadata": {
    "collapsed": true
   },
   "outputs": [],
   "source": [
    "#Transfer tsv info into a new txt file\n",
    "with open('PhosphoELM.gmt', 'w') as openfile:\n",
    "    for index in PhosphoELM:\n",
    "        openfile.write(str(PhosphoELM[index]) + '\\n')\n",
    "\n"
   ]
  },
  {
   "cell_type": "code",
   "execution_count": 87,
   "metadata": {},
   "outputs": [
    {
     "name": "stdout",
     "output_type": "stream",
     "text": [
      "NUMB\n"
     ]
    }
   ],
   "source": [
    "\n",
    "\n",
    "import xmltodict\n",
    "import json\n",
    "import requests\n",
    "\n",
    "ENRICHR_URL = 'https://www.ebi.ac.uk/proteins/api/proteins/%s'\n",
    "protein_id = 'P49757'\n",
    "response = requests.get(ENRICHR_URL % protein_id)\n",
    "\n",
    "if not response.ok:\n",
    "    raise Exception('Error getting protein data from database')\n",
    "\n",
    "data = xmltodict.parse(response.text)\n",
    "data = data['entry']\n",
    "root_elements = data['gene']\n",
    "name = list(root_elements['name'].values())[1]\n",
    "print(name)\n"
   ]
  },
  {
   "cell_type": "code",
   "execution_count": null,
   "metadata": {},
   "outputs": [],
   "source": [
    "data = xmltodict.parse(response.text)\n",
    "data = data['entry']\n",
    "root_elements = data['gene']\n",
    "name = (root_elements['name'].values())[1]\n",
    "\n",
    "#for element in root_elements:\n",
    "#   print(element('name'))\n",
    "\n",
    "#root node is 'entry'\n",
    "#THEN there is a list of Ordered Dict objects\n",
    "#for entry in data['entry']:\n",
    " #   print(entry['gene']['name']['#text'])"
   ]
  },
  {
   "cell_type": "code",
   "execution_count": null,
   "metadata": {
    "collapsed": true
   },
   "outputs": [],
   "source": [
    "#other formats\n",
    "#PhosphoSite Plus <-- add to expand\n",
    "#research other databases in literature to help expand"
   ]
  }
 ],
 "metadata": {
  "kernelspec": {
   "display_name": "Python 3",
   "language": "python",
   "name": "python3"
  },
  "language_info": {
   "codemirror_mode": {
    "name": "ipython",
    "version": 3
   },
   "file_extension": ".py",
   "mimetype": "text/x-python",
   "name": "python",
   "nbconvert_exporter": "python",
   "pygments_lexer": "ipython3",
   "version": "3.6.1"
  }
 },
 "nbformat": 4,
 "nbformat_minor": 2
}
